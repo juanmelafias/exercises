{
 "cells": [
  {
   "cell_type": "markdown",
   "metadata": {},
   "source": [
    "# Data Scientist Challenge #\n",
    "\n",
    "## Problem 1 ##\n",
    "\n",
    "The problem asks for the possible number of possible combinations of A, B and C balls that sum up to a number N, taking into account the orders in which the balls were drawnSo what the problem is really asking for is all possible **permutations**. We shall call $P$ to the set of all permutations summing up to N. Hereinafter, for a Permutation $P_i$, with $0< i\\le M, i \\in \\mathbb N$, where M ins the number of permutations, we will use $a_i$, $b_i$, and $c_i$ for the number of A, B and C balls drawn in such combination respectively, regardless the order they appeared. Thus, for a Permutation $C_i$, we will have that:\n",
    "\n",
    "- $2a_i + 3b_i + 4c_i = N$ \n",
    "\n",
    "- $0< a \\le N/2, a \\in \\mathbb N$\n",
    "\n",
    "- $0< b \\le N/3, b \\in \\mathbb N$\n",
    "\n",
    "- $0< a \\le N/4, c \\in \\mathbb N$\n",
    "\n",
    "We shall call $C$ the set of all possible combinations s.t.  $C = \\sum_{j=1}^K C_j,  j \\in \\mathbb N$.  The combination $C_j$, with $1< i\\le K$ where K is the number of possible **Combinations**, is a subset of P where all permutations $P_i$ belonging to it share strictly the same values for a,b and c, which will be branded as $a_j$, $b_j$, and $c_j$. The number of permutations contained in each of this subsets $C_j$ will be called $n_j$, s.t. $\\sum_{j=1}^K C_j*n_j = K$.\n",
    "\n",
    "Having established the ground concepts and relationships of the problem, the goal will be first to find all K possible Combinations and their composition, $a_j$, $b_j$, and $c_j$. Once all of this is known, for each combination, the number of possible permutations out of their elements n_j will be computed. Summing this result across all combinations will yield the final result M, the number of all possible permutations.\n",
    "\n",
    "\n",
    "\n"
   ]
  },
  {
   "cell_type": "markdown",
   "metadata": {},
   "source": [
    "### 1.1 Calculating combinations ###\n",
    "\n",
    "There are two clear divisions: even numbers and odd numbers. Odd numbers need a 3 to be reached whereas even don't. These two classes can be subdivided into two other: those numbers who need a 2 to be reached, and those who don't. In the case of odd numbers, those whose remainder after dividing by 4 is 1, will need a two. In the case of even numbers, that same remainder will be zero. So, we have 4 types of numbers with the following restrictions.\n",
    "\n",
    "- Odd, remainder equal 1. Will need at least a 2 and a 3. $a,b \\ge 1$\n",
    "\n",
    "- Odd, remainder equal 3. Will need at least a 3. $b \\ge 1$\n",
    "\n",
    "- Even, remainder equal 2. Will need at least a 2 or two 3s. $a \\ge 1$\n",
    "\n",
    "- Even, divisible by 4. No restrictions.\n",
    "\n",
    "As it can be seen, only the remainder can tell us the restrictions of combinations. Once restrictions of every number are determined, we will ``rethink´´ it as a number divisible by 4, plus its restrictions. For example, the number 53, with remainder 1, can be thought of all combinations that form 48, plus an A ball and a B ball. The number 48 now can be combined without restrictions, so the process can be automatized for each and everynumber.\n",
    "\n",
    "At this point, the number of combinations could be ``bruteforced´´ by forming K = $(N/4)*(N/3)$ = $\\frac{N^2}{24}$ solutions-those are the possible values for a and c, which leave a determined-, which at 6 flops per solution (2a*+3*b+4*c = N contains 3 multiplications, 2 sums and one comparison- would yield an algorithm of $O(N^2/2)$, which is not great but could be acceptable if the other half of the problem had already been solved, which has not.\n",
    "\n",
    "In order to improve this, let's start by iterating across c, picking a value. After this, it is known that b must be lower or equal than (N-4c)/3, and that it must be an even number. So, for b only (N-4c)/6 values would be roughly available. a then would be trivial Putting this mathematically:\n",
    "\n",
    "K = $\\sum_{c=0}^{N/4} c*b(c)= \\sum_{c=0}^{N/4}\\frac{N}{4}*\\frac{N-4c}{6} = \\frac{1}{6}*\\frac{N^2}{8}-\\frac{N}{24} $. Considering the term of order $O(n)$ negligible and assuming again 6 flops per computed solution we get an algorithm of $O(N^2/8)$, around 4 times faster\n",
    "\n",
    "\n",
    "\n",
    "\n",
    "\n"
   ]
  },
  {
   "cell_type": "code",
   "execution_count": 49,
   "metadata": {},
   "outputs": [],
   "source": [
    "import numpy as np"
   ]
  },
  {
   "cell_type": "code",
   "execution_count": 50,
   "metadata": {},
   "outputs": [],
   "source": [
    "def combs_mult4(N,plus_a,plus_b):\n",
    "    sols = []\n",
    "    for c in range(int(N/4)+1):\n",
    "            for b in range(0,int(np.floor((N-4*c)/3))+1,2):\n",
    "                a = int((N-4*c-3*b)/2)\n",
    "                sol = (a+plus_a,b+plus_b,c)\n",
    "                if (4*c+3*b+2*a) == N:\n",
    "                    sols.append(sol)\n",
    "    if N == 0:\n",
    "        sols = [(plus_a,plus_b,0)]\n",
    "    return sols"
   ]
  },
  {
   "cell_type": "code",
   "execution_count": 51,
   "metadata": {},
   "outputs": [],
   "source": [
    "def find_combs(N):\n",
    "    plus_b = 0\n",
    "    plus_a = 0\n",
    "    \n",
    "    if N%4 == 2:\n",
    "        sols = []\n",
    "        for item in [(1,0),(0,2)]:\n",
    "            N_new= N-2*item[0]-3*item[1]\n",
    "            plus_a = item[0]\n",
    "            plus_b = item[1]\n",
    "            sols_prov = combs_mult4(N_new,plus_a,plus_b)\n",
    "            sols = sols + sols_prov\n",
    "\n",
    "    else:\n",
    "        if N%4 == 3:\n",
    "            N_new = N -3\n",
    "            plus_b = 1\n",
    "            sols = combs_mult4(N_new,plus_a,plus_b)\n",
    "\n",
    "        elif N%4 == 1:\n",
    "            N_new = N-5\n",
    "            plus_a = 1\n",
    "            plus_b = 1\n",
    "            sols = combs_mult4(N_new,plus_a,plus_b)\n",
    "        else:\n",
    "            sols = combs_mult4(N,plus_a,plus_b)\n",
    "\n",
    "        \n",
    "    \n",
    "    return sols"
   ]
  },
  {
   "cell_type": "markdown",
   "metadata": {},
   "source": [
    "Once we have the combinations, it is time to tackle the permutation process. Out of a list of B elements, where B = a+b+c, there can be obtained B! possible combinations. To give a better sense of how big factorial numbers are, we can use Stirling's approximation as $B! \\approx \\sqrt{2\\pi B}(\\frac{B}{e})^B  $. Given that the number of combinations $M\\alpha N^2$, $N/2 \\ge B\\ge N/4$ and for each permutations are needed N operations to add elements, our algorithm is really expensive, of the order of $O(\\lambda N^3(N/3)^{N/3})$. Finding the combinations next to this step is negligible in terms of computational cost. Using a concrete example, finding the permutations of N = 20 would be around 35 times slower than doing so for N = 15\n",
    "\n",
    "There are a lot of libraries that compute the permutations out of a list, but I wrote the function for personal amusement-I had never used a function that calls itself-. Once a permutation is computed, it is only added to the list of results if it has not been added before, since our algorithm may recreate the same permutation several times, as it sees all elements as diferent even though we only have 3 balls. Thus, there is still room for improvement."
   ]
  },
  {
   "cell_type": "code",
   "execution_count": null,
   "metadata": {},
   "outputs": [],
   "source": [
    "import matplotlib.pyplo\n",
    "def plot_complexity(N)"
   ]
  },
  {
   "cell_type": "code",
   "execution_count": 52,
   "metadata": {},
   "outputs": [],
   "source": [
    "\n",
    "def find_perms(items):\n",
    "    if len(items) == 0:\n",
    "        return [] \n",
    "    if len(items) == 1:\n",
    "        return [items]\n",
    "    perm = []\n",
    "    for i in range(len(items)):\n",
    "        val = items[i]\n",
    "        items_left = items[:i]+items[i+1:]\n",
    "        for p in find_perms(items_left):\n",
    "            perm.append([val] +p)\n",
    "    return perm"
   ]
  },
  {
   "cell_type": "code",
   "execution_count": 53,
   "metadata": {},
   "outputs": [],
   "source": [
    "def get_all_perms(N):\n",
    "    perms = []\n",
    "    combs = find_combs(N)\n",
    "    for comb in combs:\n",
    "        items = comb[0]*'A'+comb[1]*'B'+comb[2]*'C'\n",
    "        for perm in find_perms(list(items)):\n",
    "            if perm not in perms:\n",
    "                perms.append(perm)\n",
    "    print(f'The total number of permutations is {len(perms)}')\n",
    "    return perms"
   ]
  },
  {
   "cell_type": "code",
   "execution_count": 54,
   "metadata": {},
   "outputs": [
    {
     "name": "stdout",
     "output_type": "stream",
     "text": [
      "The total number of permutations is 112\n"
     ]
    },
    {
     "data": {
      "text/plain": [
       "[['A', 'A', 'A', 'A', 'A', 'A', 'B'],\n",
       " ['A', 'A', 'A', 'A', 'A', 'B', 'A'],\n",
       " ['A', 'A', 'A', 'A', 'B', 'A', 'A'],\n",
       " ['A', 'A', 'A', 'B', 'A', 'A', 'A'],\n",
       " ['A', 'A', 'B', 'A', 'A', 'A', 'A'],\n",
       " ['A', 'B', 'A', 'A', 'A', 'A', 'A'],\n",
       " ['B', 'A', 'A', 'A', 'A', 'A', 'A'],\n",
       " ['A', 'A', 'A', 'B', 'B', 'B'],\n",
       " ['A', 'A', 'B', 'A', 'B', 'B'],\n",
       " ['A', 'A', 'B', 'B', 'A', 'B'],\n",
       " ['A', 'A', 'B', 'B', 'B', 'A'],\n",
       " ['A', 'B', 'A', 'A', 'B', 'B'],\n",
       " ['A', 'B', 'A', 'B', 'A', 'B'],\n",
       " ['A', 'B', 'A', 'B', 'B', 'A'],\n",
       " ['A', 'B', 'B', 'A', 'A', 'B'],\n",
       " ['A', 'B', 'B', 'A', 'B', 'A'],\n",
       " ['A', 'B', 'B', 'B', 'A', 'A'],\n",
       " ['B', 'A', 'A', 'A', 'B', 'B'],\n",
       " ['B', 'A', 'A', 'B', 'A', 'B'],\n",
       " ['B', 'A', 'A', 'B', 'B', 'A'],\n",
       " ['B', 'A', 'B', 'A', 'A', 'B'],\n",
       " ['B', 'A', 'B', 'A', 'B', 'A'],\n",
       " ['B', 'A', 'B', 'B', 'A', 'A'],\n",
       " ['B', 'B', 'A', 'A', 'A', 'B'],\n",
       " ['B', 'B', 'A', 'A', 'B', 'A'],\n",
       " ['B', 'B', 'A', 'B', 'A', 'A'],\n",
       " ['B', 'B', 'B', 'A', 'A', 'A'],\n",
       " ['B', 'B', 'B', 'B', 'B'],\n",
       " ['A', 'A', 'A', 'A', 'B', 'C'],\n",
       " ['A', 'A', 'A', 'A', 'C', 'B'],\n",
       " ['A', 'A', 'A', 'B', 'A', 'C'],\n",
       " ['A', 'A', 'A', 'B', 'C', 'A'],\n",
       " ['A', 'A', 'A', 'C', 'A', 'B'],\n",
       " ['A', 'A', 'A', 'C', 'B', 'A'],\n",
       " ['A', 'A', 'B', 'A', 'A', 'C'],\n",
       " ['A', 'A', 'B', 'A', 'C', 'A'],\n",
       " ['A', 'A', 'B', 'C', 'A', 'A'],\n",
       " ['A', 'A', 'C', 'A', 'A', 'B'],\n",
       " ['A', 'A', 'C', 'A', 'B', 'A'],\n",
       " ['A', 'A', 'C', 'B', 'A', 'A'],\n",
       " ['A', 'B', 'A', 'A', 'A', 'C'],\n",
       " ['A', 'B', 'A', 'A', 'C', 'A'],\n",
       " ['A', 'B', 'A', 'C', 'A', 'A'],\n",
       " ['A', 'B', 'C', 'A', 'A', 'A'],\n",
       " ['A', 'C', 'A', 'A', 'A', 'B'],\n",
       " ['A', 'C', 'A', 'A', 'B', 'A'],\n",
       " ['A', 'C', 'A', 'B', 'A', 'A'],\n",
       " ['A', 'C', 'B', 'A', 'A', 'A'],\n",
       " ['B', 'A', 'A', 'A', 'A', 'C'],\n",
       " ['B', 'A', 'A', 'A', 'C', 'A'],\n",
       " ['B', 'A', 'A', 'C', 'A', 'A'],\n",
       " ['B', 'A', 'C', 'A', 'A', 'A'],\n",
       " ['B', 'C', 'A', 'A', 'A', 'A'],\n",
       " ['C', 'A', 'A', 'A', 'A', 'B'],\n",
       " ['C', 'A', 'A', 'A', 'B', 'A'],\n",
       " ['C', 'A', 'A', 'B', 'A', 'A'],\n",
       " ['C', 'A', 'B', 'A', 'A', 'A'],\n",
       " ['C', 'B', 'A', 'A', 'A', 'A'],\n",
       " ['A', 'B', 'B', 'B', 'C'],\n",
       " ['A', 'B', 'B', 'C', 'B'],\n",
       " ['A', 'B', 'C', 'B', 'B'],\n",
       " ['A', 'C', 'B', 'B', 'B'],\n",
       " ['B', 'A', 'B', 'B', 'C'],\n",
       " ['B', 'A', 'B', 'C', 'B'],\n",
       " ['B', 'A', 'C', 'B', 'B'],\n",
       " ['B', 'B', 'A', 'B', 'C'],\n",
       " ['B', 'B', 'A', 'C', 'B'],\n",
       " ['B', 'B', 'B', 'A', 'C'],\n",
       " ['B', 'B', 'B', 'C', 'A'],\n",
       " ['B', 'B', 'C', 'A', 'B'],\n",
       " ['B', 'B', 'C', 'B', 'A'],\n",
       " ['B', 'C', 'A', 'B', 'B'],\n",
       " ['B', 'C', 'B', 'A', 'B'],\n",
       " ['B', 'C', 'B', 'B', 'A'],\n",
       " ['C', 'A', 'B', 'B', 'B'],\n",
       " ['C', 'B', 'A', 'B', 'B'],\n",
       " ['C', 'B', 'B', 'A', 'B'],\n",
       " ['C', 'B', 'B', 'B', 'A'],\n",
       " ['A', 'A', 'B', 'C', 'C'],\n",
       " ['A', 'A', 'C', 'B', 'C'],\n",
       " ['A', 'A', 'C', 'C', 'B'],\n",
       " ['A', 'B', 'A', 'C', 'C'],\n",
       " ['A', 'B', 'C', 'A', 'C'],\n",
       " ['A', 'B', 'C', 'C', 'A'],\n",
       " ['A', 'C', 'A', 'B', 'C'],\n",
       " ['A', 'C', 'A', 'C', 'B'],\n",
       " ['A', 'C', 'B', 'A', 'C'],\n",
       " ['A', 'C', 'B', 'C', 'A'],\n",
       " ['A', 'C', 'C', 'A', 'B'],\n",
       " ['A', 'C', 'C', 'B', 'A'],\n",
       " ['B', 'A', 'A', 'C', 'C'],\n",
       " ['B', 'A', 'C', 'A', 'C'],\n",
       " ['B', 'A', 'C', 'C', 'A'],\n",
       " ['B', 'C', 'A', 'A', 'C'],\n",
       " ['B', 'C', 'A', 'C', 'A'],\n",
       " ['B', 'C', 'C', 'A', 'A'],\n",
       " ['C', 'A', 'A', 'B', 'C'],\n",
       " ['C', 'A', 'A', 'C', 'B'],\n",
       " ['C', 'A', 'B', 'A', 'C'],\n",
       " ['C', 'A', 'B', 'C', 'A'],\n",
       " ['C', 'A', 'C', 'A', 'B'],\n",
       " ['C', 'A', 'C', 'B', 'A'],\n",
       " ['C', 'B', 'A', 'A', 'C'],\n",
       " ['C', 'B', 'A', 'C', 'A'],\n",
       " ['C', 'B', 'C', 'A', 'A'],\n",
       " ['C', 'C', 'A', 'A', 'B'],\n",
       " ['C', 'C', 'A', 'B', 'A'],\n",
       " ['C', 'C', 'B', 'A', 'A'],\n",
       " ['B', 'C', 'C', 'C'],\n",
       " ['C', 'B', 'C', 'C'],\n",
       " ['C', 'C', 'B', 'C'],\n",
       " ['C', 'C', 'C', 'B']]"
      ]
     },
     "execution_count": 54,
     "metadata": {},
     "output_type": "execute_result"
    }
   ],
   "source": [
    "get_all_perms(15)"
   ]
  },
  {
   "cell_type": "markdown",
   "metadata": {},
   "source": [
    "## 1.2. Demand estimation ## \n",
    "\n",
    "Let's start by loading and exploring the .csv files with the sales information\n"
   ]
  },
  {
   "cell_type": "code",
   "execution_count": null,
   "metadata": {},
   "outputs": [],
   "source": [
    "import pandas as pd\n",
    "r1c1 =  pd.read_csv('region')\n"
   ]
  }
 ],
 "metadata": {
  "kernelspec": {
   "display_name": "Python 3.10.4 64-bit",
   "language": "python",
   "name": "python3"
  },
  "language_info": {
   "codemirror_mode": {
    "name": "ipython",
    "version": 3
   },
   "file_extension": ".py",
   "mimetype": "text/x-python",
   "name": "python",
   "nbconvert_exporter": "python",
   "pygments_lexer": "ipython3",
   "version": "3.10.4"
  },
  "orig_nbformat": 4,
  "vscode": {
   "interpreter": {
    "hash": "6a2c7044fdf49af6baf7003b50f0a05eccc850dd98edb6e4c558b9f8f263024f"
   }
  }
 },
 "nbformat": 4,
 "nbformat_minor": 2
}
