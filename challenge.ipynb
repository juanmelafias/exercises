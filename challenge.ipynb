{
 "cells": [
  {
   "cell_type": "markdown",
   "metadata": {},
   "source": [
    "# Data Scientist Challenge #\n",
    "\n",
    "## Problem 1 ##\n",
    "\n",
    "The problem asks for the possible number of possible combinations of A, B and C balls that sum up to a number N, taking into account the orders in which the balls were drawnSo what the problem is really asking for is all possible **permutations**. We shall call $P$ to the set of all permutations summing up to N. Hereinafter, for a Permutation $P_i$, with $0< i\\le M, i \\in \\mathbb N$, where M ins the number of permutations, we will use $a_i$, $b_i$, and $c_i$ for the number of A, B and C balls drawn in such combination respectively, regardless the order they appeared. Thus, for a Permutation $C_i$, we will have that:\n",
    "\n",
    "- $2a_i + 3b_i + 4c_i = N$ \n",
    "\n",
    "- $0< a \\le N/2, a \\in \\mathbb N$\n",
    "\n",
    "- $0< b \\le N/3, b \\in \\mathbb N$\n",
    "\n",
    "- $0< a \\le N/4, c \\in \\mathbb N$\n",
    "\n",
    "We shall call $C$ the set of all possible combinations s.t.  $C = \\sum_{j=1}^K C_j,  j \\in \\mathbb N$.  The combination $C_j$, with $1< i\\le K$ where K is the number of possible **Combinations**, is a subset of P where all permutations $P_i$ belonging to it share strictly the same values for a,b and c, which will be branded as $a_j$, $b_j$, and $c_j$. The number of permutations contained in each of this subsets $C_j$ will be called $n_j$, s.t. $\\sum_{j=1}^K C_j*n_j = K$.\n",
    "\n",
    "Having established the ground concepts and relationships of the problem, the goal will be first to find all K possible Combinations and their composition, $a_j$, $b_j$, and $c_j$. Once all of this is known, for each combination, the number of possible permutations out of their elements n_j will be computed. Summing this result across all combinations will yield the final result M, the number of all possible permutations.\n",
    "\n",
    "\n",
    "\n"
   ]
  },
  {
   "cell_type": "markdown",
   "metadata": {},
   "source": [
    "### 1.1 Calculating combinations ###\n",
    "\n",
    "There are two clear divisions: even numbers and odd numbers. Odd numbers need a 3 to be reached whereas even don't. These two classes can be subdivided into two other: those numbers who need a 2 to be reached, and those who don't. In the case of odd numbers, those whose remainder after dividing by 4 is 1, will need a two. In the case of even numbers, that same remainder will be zero. So, we have 4 types of numbers with the following restrictions.\n",
    "\n",
    "- Odd, remainder equal 1. Will need at least a 2 and a 3. $a,b \\ge 1$\n",
    "\n",
    "- Odd, remainder equal 3. Will need at least a 3. $b \\ge 1$\n",
    "\n",
    "- Even, remainder equal 2. Will need at least a 2 or two 3s. $a \\ge 1$\n",
    "\n",
    "- Even, divisible by 4. No restrictions.\n",
    "\n",
    "As it can be seen, only the remainder can tell us the restrictions of combinations. Once restrictions of every number are determined, we will ``rethink´´ it as a number divisible by 4, plus its restrictions. For example, the number 53, with remainder 1, can be thought of all combinations that form 48, plus an A ball and a B ball. The number 48 now can be combined without restrictions, so the process can be automatized for each and everynumber.\n",
    "\n",
    "At this point, the number of combinations could be ``bruteforced´´ by forming K = $(N/4)*(N/3)$ = $\\frac{N^2}{24}$ solutions-those are the possible values for a and c, which leave a determined-, which at 6 flops per solution (2a*+3*b+4*c = N contains 3 multiplications, 2 sums and one comparison- would yield an algorithm of $O(N^2/2)$, which is not great but could be acceptable if the other half of the problem had already been solved, which has not.\n",
    "\n",
    "In order to improve this, let's start by iterating across c, picking a value. After this, it is known that b must be lower or equal than (N-4c)/3, and that it must be an even number. So, for b only (N-4c)/6 values would be roughly available. a then would be trivial Putting this mathematically:\n",
    "\n",
    "K = $\\sum_{c=0}^{N/4} c*b(c)= \\sum_{c=0}^{N/4}\\frac{N}{4}*\\frac{N-4c}{6} = \\frac{1}{6}*\\frac{N^2}{8}-\\frac{N}{24} $. Considering the term of order $O(n)$ negligible and assuming again 6 flops per computed solution we get an algorithm of $O(N^2/8)$, around 4 times faster\n",
    "\n",
    "\n",
    "\n",
    "\n",
    "\n"
   ]
  },
  {
   "cell_type": "code",
   "execution_count": 6,
   "metadata": {},
   "outputs": [],
   "source": [
    "import numpy as np"
   ]
  },
  {
   "cell_type": "code",
   "execution_count": 7,
   "metadata": {},
   "outputs": [],
   "source": [
    "def combs_mult4(N,plus_a,plus_b):\n",
    "    sols = []\n",
    "    for c in range(int(N/4)+1):\n",
    "            for b in range(0,int(np.floor((N-4*c)/3))+1,2):\n",
    "                a = int((N-4*c-3*b)/2)\n",
    "                sol = (a+plus_a,b+plus_b,c)\n",
    "                if (4*c+3*b+2*a) == N:\n",
    "                    sols.append(sol)\n",
    "    if N == 0:\n",
    "        sols = [(plus_a,plus_b,0)]\n",
    "    return sols"
   ]
  },
  {
   "cell_type": "code",
   "execution_count": 8,
   "metadata": {},
   "outputs": [],
   "source": [
    "def find_combs(N):\n",
    "    plus_b = 0\n",
    "    plus_a = 0\n",
    "    \n",
    "    if N%4 == 2:\n",
    "        sols = []\n",
    "        for item in [(1,0),(0,2)]:\n",
    "            N_new= N-2*item[0]-3*item[1]\n",
    "            plus_a = item[0]\n",
    "            plus_b = item[1]\n",
    "            sols_prov = combs_mult4(N_new,plus_a,plus_b)\n",
    "            sols = sols + sols_prov\n",
    "\n",
    "    else:\n",
    "        if N%4 == 3:\n",
    "            N_new = N -3\n",
    "            plus_b = 1\n",
    "            sols = combs_mult4(N_new,plus_a,plus_b)\n",
    "\n",
    "        elif N%4 == 1:\n",
    "            N_new = N-5\n",
    "            plus_a = 1\n",
    "            plus_b = 1\n",
    "            sols = combs_mult4(N_new,plus_a,plus_b)\n",
    "        else:\n",
    "            sols = combs_mult4(N,plus_a,plus_b)\n",
    "\n",
    "        \n",
    "    \n",
    "    return sols"
   ]
  },
  {
   "cell_type": "markdown",
   "metadata": {},
   "source": [
    "Once we have the combinations, it is time to tackle the permutation process. Out of a list of B elements, where B = a+b+c, there can be obtained B! possible combinations. To give a better sense of how big factorial numbers are, we can use Stirling's approximation as $B! \\approx \\sqrt{2\\pi B}(\\frac{B}{e})^B  $. Given that the number of combinations $M\\alpha N^2$, $N/2 \\ge B\\ge N/4$ and for each permutations are needed N operations to add elements, our algorithm is really expensive, of the order of $O(\\lambda N^3(N/3)^{N/3})$. Finding the combinations next to this step is negligible in terms of computational cost. Using a concrete example, finding the permutations of N = 20 would be around 35 times slower than doing so for N = 15\n",
    "\n",
    "There are a lot of libraries that compute the permutations out of a list, but I wrote the function for personal amusement-I had never used a function that calls itself-. Once a permutation is computed, it is only added to the list of results if it has not been added before, since our algorithm may recreate the same permutation several times, as it sees all elements as diferent even though we only have 3 balls. Thus, there is still room for improvement."
   ]
  },
  {
   "cell_type": "code",
   "execution_count": 10,
   "metadata": {},
   "outputs": [
    {
     "ename": "SyntaxError",
     "evalue": "expected ':' (2315398728.py, line 2)",
     "output_type": "error",
     "traceback": [
      "\u001b[1;36m  Cell \u001b[1;32mIn [10], line 2\u001b[1;36m\u001b[0m\n\u001b[1;33m    def plot_complexity(N)\u001b[0m\n\u001b[1;37m                          ^\u001b[0m\n\u001b[1;31mSyntaxError\u001b[0m\u001b[1;31m:\u001b[0m expected ':'\n"
     ]
    }
   ],
   "source": [
    "import matplotlib.pyplo\n",
    "def plot_complexity(N)"
   ]
  },
  {
   "cell_type": "code",
   "execution_count": 12,
   "metadata": {},
   "outputs": [],
   "source": [
    "\n",
    "def find_perms(items):\n",
    "    if len(items) == 0:\n",
    "        return [] \n",
    "    if len(items) == 1:\n",
    "        return [items]\n",
    "    perm = []\n",
    "    for i in range(len(items)):\n",
    "        val = items[i]\n",
    "        items_left = items[:i]+items[i+1:]\n",
    "        for p in find_perms(items_left):\n",
    "            perm.append([val] +p)\n",
    "    return perm"
   ]
  },
  {
   "cell_type": "code",
   "execution_count": 13,
   "metadata": {},
   "outputs": [],
   "source": [
    "def get_all_perms(N):\n",
    "    perms = []\n",
    "    combs = find_combs(N)\n",
    "    for comb in combs:\n",
    "        items = comb[0]*'A'+comb[1]*'B'+comb[2]*'C'\n",
    "        for perm in find_perms(list(items)):\n",
    "            if perm not in perms:\n",
    "                perms.append(perm)\n",
    "    print(f'The total number of permutations is {len(perms)}')\n",
    "    return perms"
   ]
  },
  {
   "cell_type": "code",
   "execution_count": 14,
   "metadata": {},
   "outputs": [
    {
     "name": "stdout",
     "output_type": "stream",
     "text": [
      "The total number of permutations is 112\n"
     ]
    },
    {
     "data": {
      "text/plain": [
       "[['A', 'A', 'A', 'A', 'A', 'A', 'B'],\n",
       " ['A', 'A', 'A', 'A', 'A', 'B', 'A'],\n",
       " ['A', 'A', 'A', 'A', 'B', 'A', 'A'],\n",
       " ['A', 'A', 'A', 'B', 'A', 'A', 'A'],\n",
       " ['A', 'A', 'B', 'A', 'A', 'A', 'A'],\n",
       " ['A', 'B', 'A', 'A', 'A', 'A', 'A'],\n",
       " ['B', 'A', 'A', 'A', 'A', 'A', 'A'],\n",
       " ['A', 'A', 'A', 'B', 'B', 'B'],\n",
       " ['A', 'A', 'B', 'A', 'B', 'B'],\n",
       " ['A', 'A', 'B', 'B', 'A', 'B'],\n",
       " ['A', 'A', 'B', 'B', 'B', 'A'],\n",
       " ['A', 'B', 'A', 'A', 'B', 'B'],\n",
       " ['A', 'B', 'A', 'B', 'A', 'B'],\n",
       " ['A', 'B', 'A', 'B', 'B', 'A'],\n",
       " ['A', 'B', 'B', 'A', 'A', 'B'],\n",
       " ['A', 'B', 'B', 'A', 'B', 'A'],\n",
       " ['A', 'B', 'B', 'B', 'A', 'A'],\n",
       " ['B', 'A', 'A', 'A', 'B', 'B'],\n",
       " ['B', 'A', 'A', 'B', 'A', 'B'],\n",
       " ['B', 'A', 'A', 'B', 'B', 'A'],\n",
       " ['B', 'A', 'B', 'A', 'A', 'B'],\n",
       " ['B', 'A', 'B', 'A', 'B', 'A'],\n",
       " ['B', 'A', 'B', 'B', 'A', 'A'],\n",
       " ['B', 'B', 'A', 'A', 'A', 'B'],\n",
       " ['B', 'B', 'A', 'A', 'B', 'A'],\n",
       " ['B', 'B', 'A', 'B', 'A', 'A'],\n",
       " ['B', 'B', 'B', 'A', 'A', 'A'],\n",
       " ['B', 'B', 'B', 'B', 'B'],\n",
       " ['A', 'A', 'A', 'A', 'B', 'C'],\n",
       " ['A', 'A', 'A', 'A', 'C', 'B'],\n",
       " ['A', 'A', 'A', 'B', 'A', 'C'],\n",
       " ['A', 'A', 'A', 'B', 'C', 'A'],\n",
       " ['A', 'A', 'A', 'C', 'A', 'B'],\n",
       " ['A', 'A', 'A', 'C', 'B', 'A'],\n",
       " ['A', 'A', 'B', 'A', 'A', 'C'],\n",
       " ['A', 'A', 'B', 'A', 'C', 'A'],\n",
       " ['A', 'A', 'B', 'C', 'A', 'A'],\n",
       " ['A', 'A', 'C', 'A', 'A', 'B'],\n",
       " ['A', 'A', 'C', 'A', 'B', 'A'],\n",
       " ['A', 'A', 'C', 'B', 'A', 'A'],\n",
       " ['A', 'B', 'A', 'A', 'A', 'C'],\n",
       " ['A', 'B', 'A', 'A', 'C', 'A'],\n",
       " ['A', 'B', 'A', 'C', 'A', 'A'],\n",
       " ['A', 'B', 'C', 'A', 'A', 'A'],\n",
       " ['A', 'C', 'A', 'A', 'A', 'B'],\n",
       " ['A', 'C', 'A', 'A', 'B', 'A'],\n",
       " ['A', 'C', 'A', 'B', 'A', 'A'],\n",
       " ['A', 'C', 'B', 'A', 'A', 'A'],\n",
       " ['B', 'A', 'A', 'A', 'A', 'C'],\n",
       " ['B', 'A', 'A', 'A', 'C', 'A'],\n",
       " ['B', 'A', 'A', 'C', 'A', 'A'],\n",
       " ['B', 'A', 'C', 'A', 'A', 'A'],\n",
       " ['B', 'C', 'A', 'A', 'A', 'A'],\n",
       " ['C', 'A', 'A', 'A', 'A', 'B'],\n",
       " ['C', 'A', 'A', 'A', 'B', 'A'],\n",
       " ['C', 'A', 'A', 'B', 'A', 'A'],\n",
       " ['C', 'A', 'B', 'A', 'A', 'A'],\n",
       " ['C', 'B', 'A', 'A', 'A', 'A'],\n",
       " ['A', 'B', 'B', 'B', 'C'],\n",
       " ['A', 'B', 'B', 'C', 'B'],\n",
       " ['A', 'B', 'C', 'B', 'B'],\n",
       " ['A', 'C', 'B', 'B', 'B'],\n",
       " ['B', 'A', 'B', 'B', 'C'],\n",
       " ['B', 'A', 'B', 'C', 'B'],\n",
       " ['B', 'A', 'C', 'B', 'B'],\n",
       " ['B', 'B', 'A', 'B', 'C'],\n",
       " ['B', 'B', 'A', 'C', 'B'],\n",
       " ['B', 'B', 'B', 'A', 'C'],\n",
       " ['B', 'B', 'B', 'C', 'A'],\n",
       " ['B', 'B', 'C', 'A', 'B'],\n",
       " ['B', 'B', 'C', 'B', 'A'],\n",
       " ['B', 'C', 'A', 'B', 'B'],\n",
       " ['B', 'C', 'B', 'A', 'B'],\n",
       " ['B', 'C', 'B', 'B', 'A'],\n",
       " ['C', 'A', 'B', 'B', 'B'],\n",
       " ['C', 'B', 'A', 'B', 'B'],\n",
       " ['C', 'B', 'B', 'A', 'B'],\n",
       " ['C', 'B', 'B', 'B', 'A'],\n",
       " ['A', 'A', 'B', 'C', 'C'],\n",
       " ['A', 'A', 'C', 'B', 'C'],\n",
       " ['A', 'A', 'C', 'C', 'B'],\n",
       " ['A', 'B', 'A', 'C', 'C'],\n",
       " ['A', 'B', 'C', 'A', 'C'],\n",
       " ['A', 'B', 'C', 'C', 'A'],\n",
       " ['A', 'C', 'A', 'B', 'C'],\n",
       " ['A', 'C', 'A', 'C', 'B'],\n",
       " ['A', 'C', 'B', 'A', 'C'],\n",
       " ['A', 'C', 'B', 'C', 'A'],\n",
       " ['A', 'C', 'C', 'A', 'B'],\n",
       " ['A', 'C', 'C', 'B', 'A'],\n",
       " ['B', 'A', 'A', 'C', 'C'],\n",
       " ['B', 'A', 'C', 'A', 'C'],\n",
       " ['B', 'A', 'C', 'C', 'A'],\n",
       " ['B', 'C', 'A', 'A', 'C'],\n",
       " ['B', 'C', 'A', 'C', 'A'],\n",
       " ['B', 'C', 'C', 'A', 'A'],\n",
       " ['C', 'A', 'A', 'B', 'C'],\n",
       " ['C', 'A', 'A', 'C', 'B'],\n",
       " ['C', 'A', 'B', 'A', 'C'],\n",
       " ['C', 'A', 'B', 'C', 'A'],\n",
       " ['C', 'A', 'C', 'A', 'B'],\n",
       " ['C', 'A', 'C', 'B', 'A'],\n",
       " ['C', 'B', 'A', 'A', 'C'],\n",
       " ['C', 'B', 'A', 'C', 'A'],\n",
       " ['C', 'B', 'C', 'A', 'A'],\n",
       " ['C', 'C', 'A', 'A', 'B'],\n",
       " ['C', 'C', 'A', 'B', 'A'],\n",
       " ['C', 'C', 'B', 'A', 'A'],\n",
       " ['B', 'C', 'C', 'C'],\n",
       " ['C', 'B', 'C', 'C'],\n",
       " ['C', 'C', 'B', 'C'],\n",
       " ['C', 'C', 'C', 'B']]"
      ]
     },
     "execution_count": 14,
     "metadata": {},
     "output_type": "execute_result"
    }
   ],
   "source": [
    "get_all_perms(15)"
   ]
  },
  {
   "cell_type": "markdown",
   "metadata": {},
   "source": [
    "## 1.2. Demand estimation ## \n",
    "\n",
    "Let's start by loading and exploring the .csv files with the sales information\n"
   ]
  },
  {
   "cell_type": "code",
   "execution_count": 15,
   "metadata": {},
   "outputs": [],
   "source": [
    "import pandas as pd\n",
    "r1c1 =  pd.read_csv('region1_company1.csv',delimiter = ',')\n",
    "r1c2 = pd.read_csv('region1_company2.csv',delimiter = ',')\n",
    "r2c1 = pd.read_csv('region2_company1.csv',delimiter = ',')\n",
    "r2c2 = pd.read_csv('region1_company1.csv',delimiter = ',')\n"
   ]
  },
  {
   "cell_type": "code",
   "execution_count": 16,
   "metadata": {},
   "outputs": [
    {
     "data": {
      "text/plain": [
       "array([[1.        , 0.96005297],\n",
       "       [0.96005297, 1.        ]])"
      ]
     },
     "execution_count": 16,
     "metadata": {},
     "output_type": "execute_result"
    }
   ],
   "source": [
    "import numpy as np\n",
    "r1c1.head()\n",
    "np.corrcoef(r1c1['Sales_U'], r1c1['Sales_USD'])"
   ]
  },
  {
   "cell_type": "code",
   "execution_count": 17,
   "metadata": {},
   "outputs": [
    {
     "data": {
      "text/html": [
       "<div>\n",
       "<style scoped>\n",
       "    .dataframe tbody tr th:only-of-type {\n",
       "        vertical-align: middle;\n",
       "    }\n",
       "\n",
       "    .dataframe tbody tr th {\n",
       "        vertical-align: top;\n",
       "    }\n",
       "\n",
       "    .dataframe thead th {\n",
       "        text-align: right;\n",
       "    }\n",
       "</style>\n",
       "<table border=\"1\" class=\"dataframe\">\n",
       "  <thead>\n",
       "    <tr style=\"text-align: right;\">\n",
       "      <th></th>\n",
       "      <th>Sales_U</th>\n",
       "      <th>Sales_USD</th>\n",
       "      <th>Date</th>\n",
       "    </tr>\n",
       "  </thead>\n",
       "  <tbody>\n",
       "    <tr>\n",
       "      <th>0</th>\n",
       "      <td>0</td>\n",
       "      <td>0</td>\n",
       "      <td>JAN0591.1</td>\n",
       "    </tr>\n",
       "    <tr>\n",
       "      <th>1</th>\n",
       "      <td>0</td>\n",
       "      <td>0</td>\n",
       "      <td>JAN1291.1</td>\n",
       "    </tr>\n",
       "    <tr>\n",
       "      <th>2</th>\n",
       "      <td>0</td>\n",
       "      <td>0</td>\n",
       "      <td>JAN1991.1</td>\n",
       "    </tr>\n",
       "    <tr>\n",
       "      <th>3</th>\n",
       "      <td>0</td>\n",
       "      <td>0</td>\n",
       "      <td>JAN2691.1</td>\n",
       "    </tr>\n",
       "    <tr>\n",
       "      <th>4</th>\n",
       "      <td>0</td>\n",
       "      <td>0</td>\n",
       "      <td>FEB0291.1</td>\n",
       "    </tr>\n",
       "    <tr>\n",
       "      <th>...</th>\n",
       "      <td>...</td>\n",
       "      <td>...</td>\n",
       "      <td>...</td>\n",
       "    </tr>\n",
       "    <tr>\n",
       "      <th>99</th>\n",
       "      <td>26307</td>\n",
       "      <td>22230</td>\n",
       "      <td>NOV2892.1</td>\n",
       "    </tr>\n",
       "    <tr>\n",
       "      <th>100</th>\n",
       "      <td>5405</td>\n",
       "      <td>6355</td>\n",
       "      <td>DEC0592.1</td>\n",
       "    </tr>\n",
       "    <tr>\n",
       "      <th>101</th>\n",
       "      <td>4574</td>\n",
       "      <td>5370</td>\n",
       "      <td>DEC1292.1</td>\n",
       "    </tr>\n",
       "    <tr>\n",
       "      <th>102</th>\n",
       "      <td>22139</td>\n",
       "      <td>16494</td>\n",
       "      <td>DEC1992.1</td>\n",
       "    </tr>\n",
       "    <tr>\n",
       "      <th>103</th>\n",
       "      <td>24197</td>\n",
       "      <td>22797</td>\n",
       "      <td>DEC2692.1</td>\n",
       "    </tr>\n",
       "  </tbody>\n",
       "</table>\n",
       "<p>104 rows × 3 columns</p>\n",
       "</div>"
      ],
      "text/plain": [
       "     Sales_U  Sales_USD       Date\n",
       "0          0          0  JAN0591.1\n",
       "1          0          0  JAN1291.1\n",
       "2          0          0  JAN1991.1\n",
       "3          0          0  JAN2691.1\n",
       "4          0          0  FEB0291.1\n",
       "..       ...        ...        ...\n",
       "99     26307      22230  NOV2892.1\n",
       "100     5405       6355  DEC0592.1\n",
       "101     4574       5370  DEC1292.1\n",
       "102    22139      16494  DEC1992.1\n",
       "103    24197      22797  DEC2692.1\n",
       "\n",
       "[104 rows x 3 columns]"
      ]
     },
     "execution_count": 17,
     "metadata": {},
     "output_type": "execute_result"
    }
   ],
   "source": [
    "r2c1"
   ]
  },
  {
   "cell_type": "markdown",
   "metadata": {},
   "source": [
    "The date format is not very attractive for plotting purposes. That's why it would be interesting to convert it to datetime"
   ]
  },
  {
   "cell_type": "code",
   "execution_count": 18,
   "metadata": {},
   "outputs": [],
   "source": [
    "\n",
    "import datetime\n",
    "\n",
    "def transform_date(x):\n",
    "    month = x[:3].lower().capitalize()\n",
    "    day = x[3:5]\n",
    "    year = x[5:7]\n",
    "    return datetime.datetime.strptime(month+day+year,'%b%d%y').date()"
   ]
  },
  {
   "cell_type": "code",
   "execution_count": 19,
   "metadata": {},
   "outputs": [],
   "source": [
    "#Let's add a new column including the price per unit of product, i.e., per pound\n",
    "#Also, let's update the date column to convert it to date format\n",
    "for df in [r1c1,r1c2, r2c1, r2c2]:\n",
    "    df['Price'] = df['Sales_USD']/df['Sales_U']\n",
    "    df['Date'] = df['Date'].apply(transform_date)\n",
    "    "
   ]
  },
  {
   "cell_type": "markdown",
   "metadata": {},
   "source": [
    "let's create a super data frame containing all data"
   ]
  },
  {
   "cell_type": "code",
   "execution_count": 20,
   "metadata": {},
   "outputs": [],
   "source": [
    "super_df = pd.DataFrame()\n",
    "super_df['Date'] = r1c1['Date']\n",
    "dict_df = {'r1c1':r1c1,'r1c2':r1c2, 'r2c1':r2c1, 'r2c2':r2c2}\n",
    "for key,value in dict_df.items():\n",
    "    super_df[f'{key}_Sales_U'] = value['Sales_U']\n",
    "    super_df[f'{key}_Sales_USD'] = value['Sales_USD']\n",
    "    super_df[f'{key}_Prices'] = value['Price']"
   ]
  },
  {
   "cell_type": "code",
   "execution_count": 75,
   "metadata": {},
   "outputs": [
    {
     "data": {
      "text/html": [
       "<div>\n",
       "<style scoped>\n",
       "    .dataframe tbody tr th:only-of-type {\n",
       "        vertical-align: middle;\n",
       "    }\n",
       "\n",
       "    .dataframe tbody tr th {\n",
       "        vertical-align: top;\n",
       "    }\n",
       "\n",
       "    .dataframe thead th {\n",
       "        text-align: right;\n",
       "    }\n",
       "</style>\n",
       "<table border=\"1\" class=\"dataframe\">\n",
       "  <thead>\n",
       "    <tr style=\"text-align: right;\">\n",
       "      <th></th>\n",
       "      <th>Date</th>\n",
       "      <th>r1c1_Sales_U</th>\n",
       "      <th>r1c1_Sales_USD</th>\n",
       "      <th>r1c1_Prices</th>\n",
       "      <th>r1c2_Sales_U</th>\n",
       "      <th>r1c2_Sales_USD</th>\n",
       "      <th>r1c2_Prices</th>\n",
       "      <th>r2c1_Sales_U</th>\n",
       "      <th>r2c1_Sales_USD</th>\n",
       "      <th>r2c1_Prices</th>\n",
       "      <th>r2c2_Sales_U</th>\n",
       "      <th>r2c2_Sales_USD</th>\n",
       "      <th>r2c2_Prices</th>\n",
       "    </tr>\n",
       "  </thead>\n",
       "  <tbody>\n",
       "    <tr>\n",
       "      <th>0</th>\n",
       "      <td>1991-01-05</td>\n",
       "      <td>124885</td>\n",
       "      <td>129350</td>\n",
       "      <td>1.035753</td>\n",
       "      <td>302306</td>\n",
       "      <td>316739</td>\n",
       "      <td>1.047743</td>\n",
       "      <td>0</td>\n",
       "      <td>0</td>\n",
       "      <td>0.000000</td>\n",
       "      <td>124885</td>\n",
       "      <td>129350</td>\n",
       "      <td>1.035753</td>\n",
       "    </tr>\n",
       "    <tr>\n",
       "      <th>1</th>\n",
       "      <td>1991-01-12</td>\n",
       "      <td>105285</td>\n",
       "      <td>107408</td>\n",
       "      <td>1.020164</td>\n",
       "      <td>287260</td>\n",
       "      <td>296130</td>\n",
       "      <td>1.030878</td>\n",
       "      <td>0</td>\n",
       "      <td>0</td>\n",
       "      <td>0.000000</td>\n",
       "      <td>105285</td>\n",
       "      <td>107408</td>\n",
       "      <td>1.020164</td>\n",
       "    </tr>\n",
       "    <tr>\n",
       "      <th>2</th>\n",
       "      <td>1991-01-19</td>\n",
       "      <td>138363</td>\n",
       "      <td>136313</td>\n",
       "      <td>0.985184</td>\n",
       "      <td>307435</td>\n",
       "      <td>316440</td>\n",
       "      <td>1.029291</td>\n",
       "      <td>0</td>\n",
       "      <td>0</td>\n",
       "      <td>0.000000</td>\n",
       "      <td>138363</td>\n",
       "      <td>136313</td>\n",
       "      <td>0.985184</td>\n",
       "    </tr>\n",
       "    <tr>\n",
       "      <th>3</th>\n",
       "      <td>1991-01-26</td>\n",
       "      <td>111494</td>\n",
       "      <td>113805</td>\n",
       "      <td>1.020728</td>\n",
       "      <td>294160</td>\n",
       "      <td>309993</td>\n",
       "      <td>1.053824</td>\n",
       "      <td>0</td>\n",
       "      <td>0</td>\n",
       "      <td>0.000000</td>\n",
       "      <td>111494</td>\n",
       "      <td>113805</td>\n",
       "      <td>1.020728</td>\n",
       "    </tr>\n",
       "    <tr>\n",
       "      <th>4</th>\n",
       "      <td>1991-02-02</td>\n",
       "      <td>110686</td>\n",
       "      <td>113761</td>\n",
       "      <td>1.027781</td>\n",
       "      <td>300197</td>\n",
       "      <td>311884</td>\n",
       "      <td>1.038931</td>\n",
       "      <td>0</td>\n",
       "      <td>0</td>\n",
       "      <td>0.000000</td>\n",
       "      <td>110686</td>\n",
       "      <td>113761</td>\n",
       "      <td>1.027781</td>\n",
       "    </tr>\n",
       "    <tr>\n",
       "      <th>...</th>\n",
       "      <td>...</td>\n",
       "      <td>...</td>\n",
       "      <td>...</td>\n",
       "      <td>...</td>\n",
       "      <td>...</td>\n",
       "      <td>...</td>\n",
       "      <td>...</td>\n",
       "      <td>...</td>\n",
       "      <td>...</td>\n",
       "      <td>...</td>\n",
       "      <td>...</td>\n",
       "      <td>...</td>\n",
       "      <td>...</td>\n",
       "    </tr>\n",
       "    <tr>\n",
       "      <th>99</th>\n",
       "      <td>1992-11-28</td>\n",
       "      <td>292666</td>\n",
       "      <td>271505</td>\n",
       "      <td>0.927696</td>\n",
       "      <td>424955</td>\n",
       "      <td>473366</td>\n",
       "      <td>1.113920</td>\n",
       "      <td>26307</td>\n",
       "      <td>22230</td>\n",
       "      <td>0.845022</td>\n",
       "      <td>292666</td>\n",
       "      <td>271505</td>\n",
       "      <td>0.927696</td>\n",
       "    </tr>\n",
       "    <tr>\n",
       "      <th>100</th>\n",
       "      <td>1992-12-05</td>\n",
       "      <td>132475</td>\n",
       "      <td>146864</td>\n",
       "      <td>1.108617</td>\n",
       "      <td>358501</td>\n",
       "      <td>389666</td>\n",
       "      <td>1.086931</td>\n",
       "      <td>5405</td>\n",
       "      <td>6355</td>\n",
       "      <td>1.175763</td>\n",
       "      <td>132475</td>\n",
       "      <td>146864</td>\n",
       "      <td>1.108617</td>\n",
       "    </tr>\n",
       "    <tr>\n",
       "      <th>101</th>\n",
       "      <td>1992-12-12</td>\n",
       "      <td>181175</td>\n",
       "      <td>185060</td>\n",
       "      <td>1.021443</td>\n",
       "      <td>325466</td>\n",
       "      <td>359743</td>\n",
       "      <td>1.105317</td>\n",
       "      <td>4574</td>\n",
       "      <td>5370</td>\n",
       "      <td>1.174027</td>\n",
       "      <td>181175</td>\n",
       "      <td>185060</td>\n",
       "      <td>1.021443</td>\n",
       "    </tr>\n",
       "    <tr>\n",
       "      <th>102</th>\n",
       "      <td>1992-12-19</td>\n",
       "      <td>201451</td>\n",
       "      <td>201088</td>\n",
       "      <td>0.998198</td>\n",
       "      <td>352813</td>\n",
       "      <td>395923</td>\n",
       "      <td>1.122189</td>\n",
       "      <td>22139</td>\n",
       "      <td>16494</td>\n",
       "      <td>0.745020</td>\n",
       "      <td>201451</td>\n",
       "      <td>201088</td>\n",
       "      <td>0.998198</td>\n",
       "    </tr>\n",
       "    <tr>\n",
       "      <th>103</th>\n",
       "      <td>1992-12-26</td>\n",
       "      <td>263318</td>\n",
       "      <td>274691</td>\n",
       "      <td>1.043191</td>\n",
       "      <td>466706</td>\n",
       "      <td>525864</td>\n",
       "      <td>1.126756</td>\n",
       "      <td>24197</td>\n",
       "      <td>22797</td>\n",
       "      <td>0.942142</td>\n",
       "      <td>263318</td>\n",
       "      <td>274691</td>\n",
       "      <td>1.043191</td>\n",
       "    </tr>\n",
       "  </tbody>\n",
       "</table>\n",
       "<p>104 rows × 13 columns</p>\n",
       "</div>"
      ],
      "text/plain": [
       "           Date  r1c1_Sales_U  r1c1_Sales_USD  r1c1_Prices  r1c2_Sales_U  \\\n",
       "0    1991-01-05        124885          129350     1.035753        302306   \n",
       "1    1991-01-12        105285          107408     1.020164        287260   \n",
       "2    1991-01-19        138363          136313     0.985184        307435   \n",
       "3    1991-01-26        111494          113805     1.020728        294160   \n",
       "4    1991-02-02        110686          113761     1.027781        300197   \n",
       "..          ...           ...             ...          ...           ...   \n",
       "99   1992-11-28        292666          271505     0.927696        424955   \n",
       "100  1992-12-05        132475          146864     1.108617        358501   \n",
       "101  1992-12-12        181175          185060     1.021443        325466   \n",
       "102  1992-12-19        201451          201088     0.998198        352813   \n",
       "103  1992-12-26        263318          274691     1.043191        466706   \n",
       "\n",
       "     r1c2_Sales_USD  r1c2_Prices  r2c1_Sales_U  r2c1_Sales_USD  r2c1_Prices  \\\n",
       "0            316739     1.047743             0               0     0.000000   \n",
       "1            296130     1.030878             0               0     0.000000   \n",
       "2            316440     1.029291             0               0     0.000000   \n",
       "3            309993     1.053824             0               0     0.000000   \n",
       "4            311884     1.038931             0               0     0.000000   \n",
       "..              ...          ...           ...             ...          ...   \n",
       "99           473366     1.113920         26307           22230     0.845022   \n",
       "100          389666     1.086931          5405            6355     1.175763   \n",
       "101          359743     1.105317          4574            5370     1.174027   \n",
       "102          395923     1.122189         22139           16494     0.745020   \n",
       "103          525864     1.126756         24197           22797     0.942142   \n",
       "\n",
       "     r2c2_Sales_U  r2c2_Sales_USD  r2c2_Prices  \n",
       "0          124885          129350     1.035753  \n",
       "1          105285          107408     1.020164  \n",
       "2          138363          136313     0.985184  \n",
       "3          111494          113805     1.020728  \n",
       "4          110686          113761     1.027781  \n",
       "..            ...             ...          ...  \n",
       "99         292666          271505     0.927696  \n",
       "100        132475          146864     1.108617  \n",
       "101        181175          185060     1.021443  \n",
       "102        201451          201088     0.998198  \n",
       "103        263318          274691     1.043191  \n",
       "\n",
       "[104 rows x 13 columns]"
      ]
     },
     "execution_count": 75,
     "metadata": {},
     "output_type": "execute_result"
    }
   ],
   "source": [
    "super_df.fillna(0)"
   ]
  },
  {
   "cell_type": "code",
   "execution_count": 22,
   "metadata": {},
   "outputs": [],
   "source": [
    "r2c1_new = r2c1[r2c1['Price']>0]"
   ]
  },
  {
   "cell_type": "code",
   "execution_count": 23,
   "metadata": {},
   "outputs": [
    {
     "data": {
      "text/plain": [
       "Text(0, 0.5, 'Prices')"
      ]
     },
     "execution_count": 23,
     "metadata": {},
     "output_type": "execute_result"
    },
    {
     "data": {
      "image/png": "[encoded data removed]",
      "text/plain": [
       "<Figure size 640x480 with 1 Axes>"
      ]
     },
     "metadata": {},
     "output_type": "display_data"
    }
   ],
   "source": [
    "import matplotlib.pyplot as plt\n",
    "prices_list = []\n",
    "for df in [r1c1,r1c2, r2c1_new, r2c2]:\n",
    "    prices = df['Price'].to_list()  \n",
    "    prices_list.append(prices)\n",
    " \n",
    "fig = plt.figure()\n",
    "ax = fig.add_axes([0,0,1,1])\n",
    "bp = ax.violinplot(prices_list)\n",
    "ax.set_xticks([i for i in range(1,5,1)])\n",
    "ax.set_xticklabels(['r1c1','r1c2', 'r2c1', 'r2c2'])\n",
    "plt.title(f'Distribution per prices per company and region')\n",
    "plt.xlabel('company and region')\n",
    "plt.ylabel('Prices')"
   ]
  },
  {
   "cell_type": "code",
   "execution_count": 24,
   "metadata": {},
   "outputs": [
    {
     "data": {
      "text/html": [
       "<div>\n",
       "<style scoped>\n",
       "    .dataframe tbody tr th:only-of-type {\n",
       "        vertical-align: middle;\n",
       "    }\n",
       "\n",
       "    .dataframe tbody tr th {\n",
       "        vertical-align: top;\n",
       "    }\n",
       "\n",
       "    .dataframe thead th {\n",
       "        text-align: right;\n",
       "    }\n",
       "</style>\n",
       "<table border=\"1\" class=\"dataframe\">\n",
       "  <thead>\n",
       "    <tr style=\"text-align: right;\">\n",
       "      <th></th>\n",
       "      <th>r1c1_Sales_U</th>\n",
       "      <th>r1c1_Sales_USD</th>\n",
       "      <th>r1c1_Prices</th>\n",
       "      <th>r1c2_Sales_U</th>\n",
       "      <th>r1c2_Sales_USD</th>\n",
       "      <th>r1c2_Prices</th>\n",
       "      <th>r2c1_Sales_U</th>\n",
       "      <th>r2c1_Sales_USD</th>\n",
       "      <th>r2c1_Prices</th>\n",
       "      <th>r2c2_Sales_U</th>\n",
       "      <th>r2c2_Sales_USD</th>\n",
       "      <th>r2c2_Prices</th>\n",
       "    </tr>\n",
       "  </thead>\n",
       "  <tbody>\n",
       "    <tr>\n",
       "      <th>count</th>\n",
       "      <td>104.000000</td>\n",
       "      <td>104.000000</td>\n",
       "      <td>104.000000</td>\n",
       "      <td>104.000000</td>\n",
       "      <td>104.000000</td>\n",
       "      <td>104.000000</td>\n",
       "      <td>104.000000</td>\n",
       "      <td>104.000000</td>\n",
       "      <td>88.000000</td>\n",
       "      <td>104.000000</td>\n",
       "      <td>104.000000</td>\n",
       "      <td>104.000000</td>\n",
       "    </tr>\n",
       "    <tr>\n",
       "      <th>mean</th>\n",
       "      <td>153267.740385</td>\n",
       "      <td>165575.240385</td>\n",
       "      <td>1.088719</td>\n",
       "      <td>352545.384615</td>\n",
       "      <td>382102.403846</td>\n",
       "      <td>1.086778</td>\n",
       "      <td>9340.403846</td>\n",
       "      <td>9074.115385</td>\n",
       "      <td>1.094971</td>\n",
       "      <td>153267.740385</td>\n",
       "      <td>165575.240385</td>\n",
       "      <td>1.088719</td>\n",
       "    </tr>\n",
       "    <tr>\n",
       "      <th>std</th>\n",
       "      <td>44522.175454</td>\n",
       "      <td>40426.814070</td>\n",
       "      <td>0.054266</td>\n",
       "      <td>76286.284723</td>\n",
       "      <td>78753.166683</td>\n",
       "      <td>0.036779</td>\n",
       "      <td>14460.317075</td>\n",
       "      <td>8549.961014</td>\n",
       "      <td>0.111722</td>\n",
       "      <td>44522.175454</td>\n",
       "      <td>40426.814070</td>\n",
       "      <td>0.054266</td>\n",
       "    </tr>\n",
       "    <tr>\n",
       "      <th>min</th>\n",
       "      <td>104327.000000</td>\n",
       "      <td>107408.000000</td>\n",
       "      <td>0.768942</td>\n",
       "      <td>234448.000000</td>\n",
       "      <td>267132.000000</td>\n",
       "      <td>1.008224</td>\n",
       "      <td>0.000000</td>\n",
       "      <td>0.000000</td>\n",
       "      <td>0.494999</td>\n",
       "      <td>104327.000000</td>\n",
       "      <td>107408.000000</td>\n",
       "      <td>0.768942</td>\n",
       "    </tr>\n",
       "    <tr>\n",
       "      <th>25%</th>\n",
       "      <td>122906.500000</td>\n",
       "      <td>135443.250000</td>\n",
       "      <td>1.061713</td>\n",
       "      <td>298108.500000</td>\n",
       "      <td>315845.000000</td>\n",
       "      <td>1.053772</td>\n",
       "      <td>4999.750000</td>\n",
       "      <td>5813.500000</td>\n",
       "      <td>1.070636</td>\n",
       "      <td>122906.500000</td>\n",
       "      <td>135443.250000</td>\n",
       "      <td>1.061713</td>\n",
       "    </tr>\n",
       "    <tr>\n",
       "      <th>50%</th>\n",
       "      <td>139879.000000</td>\n",
       "      <td>153660.000000</td>\n",
       "      <td>1.106540</td>\n",
       "      <td>342103.000000</td>\n",
       "      <td>372825.000000</td>\n",
       "      <td>1.092727</td>\n",
       "      <td>6404.500000</td>\n",
       "      <td>7442.000000</td>\n",
       "      <td>1.127675</td>\n",
       "      <td>139879.000000</td>\n",
       "      <td>153660.000000</td>\n",
       "      <td>1.106540</td>\n",
       "    </tr>\n",
       "    <tr>\n",
       "      <th>75%</th>\n",
       "      <td>168125.750000</td>\n",
       "      <td>186190.250000</td>\n",
       "      <td>1.126358</td>\n",
       "      <td>392705.250000</td>\n",
       "      <td>435013.000000</td>\n",
       "      <td>1.116062</td>\n",
       "      <td>9814.500000</td>\n",
       "      <td>10788.250000</td>\n",
       "      <td>1.165281</td>\n",
       "      <td>168125.750000</td>\n",
       "      <td>186190.250000</td>\n",
       "      <td>1.126358</td>\n",
       "    </tr>\n",
       "    <tr>\n",
       "      <th>max</th>\n",
       "      <td>398276.000000</td>\n",
       "      <td>306251.000000</td>\n",
       "      <td>1.166239</td>\n",
       "      <td>643756.000000</td>\n",
       "      <td>687153.000000</td>\n",
       "      <td>1.143827</td>\n",
       "      <td>137463.000000</td>\n",
       "      <td>68044.000000</td>\n",
       "      <td>1.214205</td>\n",
       "      <td>398276.000000</td>\n",
       "      <td>306251.000000</td>\n",
       "      <td>1.166239</td>\n",
       "    </tr>\n",
       "  </tbody>\n",
       "</table>\n",
       "</div>"
      ],
      "text/plain": [
       "        r1c1_Sales_U  r1c1_Sales_USD  r1c1_Prices   r1c2_Sales_U  \\\n",
       "count     104.000000      104.000000   104.000000     104.000000   \n",
       "mean   153267.740385   165575.240385     1.088719  352545.384615   \n",
       "std     44522.175454    40426.814070     0.054266   76286.284723   \n",
       "min    104327.000000   107408.000000     0.768942  234448.000000   \n",
       "25%    122906.500000   135443.250000     1.061713  298108.500000   \n",
       "50%    139879.000000   153660.000000     1.106540  342103.000000   \n",
       "75%    168125.750000   186190.250000     1.126358  392705.250000   \n",
       "max    398276.000000   306251.000000     1.166239  643756.000000   \n",
       "\n",
       "       r1c2_Sales_USD  r1c2_Prices   r2c1_Sales_U  r2c1_Sales_USD  \\\n",
       "count      104.000000   104.000000     104.000000      104.000000   \n",
       "mean    382102.403846     1.086778    9340.403846     9074.115385   \n",
       "std      78753.166683     0.036779   14460.317075     8549.961014   \n",
       "min     267132.000000     1.008224       0.000000        0.000000   \n",
       "25%     315845.000000     1.053772    4999.750000     5813.500000   \n",
       "50%     372825.000000     1.092727    6404.500000     7442.000000   \n",
       "75%     435013.000000     1.116062    9814.500000    10788.250000   \n",
       "max     687153.000000     1.143827  137463.000000    68044.000000   \n",
       "\n",
       "       r2c1_Prices   r2c2_Sales_U  r2c2_Sales_USD  r2c2_Prices  \n",
       "count    88.000000     104.000000      104.000000   104.000000  \n",
       "mean      1.094971  153267.740385   165575.240385     1.088719  \n",
       "std       0.111722   44522.175454    40426.814070     0.054266  \n",
       "min       0.494999  104327.000000   107408.000000     0.768942  \n",
       "25%       1.070636  122906.500000   135443.250000     1.061713  \n",
       "50%       1.127675  139879.000000   153660.000000     1.106540  \n",
       "75%       1.165281  168125.750000   186190.250000     1.126358  \n",
       "max       1.214205  398276.000000   306251.000000     1.166239  "
      ]
     },
     "execution_count": 24,
     "metadata": {},
     "output_type": "execute_result"
    }
   ],
   "source": [
    "super_df.describe()"
   ]
  },
  {
   "cell_type": "markdown",
   "metadata": {},
   "source": [
    "Now let's take a look at our transformed dataframes"
   ]
  },
  {
   "cell_type": "code",
   "execution_count": 25,
   "metadata": {},
   "outputs": [
    {
     "data": {
      "text/html": [
       "<div>\n",
       "<style scoped>\n",
       "    .dataframe tbody tr th:only-of-type {\n",
       "        vertical-align: middle;\n",
       "    }\n",
       "\n",
       "    .dataframe tbody tr th {\n",
       "        vertical-align: top;\n",
       "    }\n",
       "\n",
       "    .dataframe thead th {\n",
       "        text-align: right;\n",
       "    }\n",
       "</style>\n",
       "<table border=\"1\" class=\"dataframe\">\n",
       "  <thead>\n",
       "    <tr style=\"text-align: right;\">\n",
       "      <th></th>\n",
       "      <th>Sales_U</th>\n",
       "      <th>Sales_USD</th>\n",
       "      <th>Date</th>\n",
       "      <th>Price</th>\n",
       "    </tr>\n",
       "  </thead>\n",
       "  <tbody>\n",
       "    <tr>\n",
       "      <th>0</th>\n",
       "      <td>124885</td>\n",
       "      <td>129350</td>\n",
       "      <td>1991-01-05</td>\n",
       "      <td>1.035753</td>\n",
       "    </tr>\n",
       "    <tr>\n",
       "      <th>1</th>\n",
       "      <td>105285</td>\n",
       "      <td>107408</td>\n",
       "      <td>1991-01-12</td>\n",
       "      <td>1.020164</td>\n",
       "    </tr>\n",
       "    <tr>\n",
       "      <th>2</th>\n",
       "      <td>138363</td>\n",
       "      <td>136313</td>\n",
       "      <td>1991-01-19</td>\n",
       "      <td>0.985184</td>\n",
       "    </tr>\n",
       "    <tr>\n",
       "      <th>3</th>\n",
       "      <td>111494</td>\n",
       "      <td>113805</td>\n",
       "      <td>1991-01-26</td>\n",
       "      <td>1.020728</td>\n",
       "    </tr>\n",
       "    <tr>\n",
       "      <th>4</th>\n",
       "      <td>110686</td>\n",
       "      <td>113761</td>\n",
       "      <td>1991-02-02</td>\n",
       "      <td>1.027781</td>\n",
       "    </tr>\n",
       "  </tbody>\n",
       "</table>\n",
       "</div>"
      ],
      "text/plain": [
       "   Sales_U  Sales_USD        Date     Price\n",
       "0   124885     129350  1991-01-05  1.035753\n",
       "1   105285     107408  1991-01-12  1.020164\n",
       "2   138363     136313  1991-01-19  0.985184\n",
       "3   111494     113805  1991-01-26  1.020728\n",
       "4   110686     113761  1991-02-02  1.027781"
      ]
     },
     "execution_count": 25,
     "metadata": {},
     "output_type": "execute_result"
    }
   ],
   "source": [
    "r1c1.head()"
   ]
  },
  {
   "cell_type": "code",
   "execution_count": 59,
   "metadata": {},
   "outputs": [],
   "source": [
    "#Exluding cols\n",
    "useful_cols = [col for col in super_df.columns][1:]\n",
    "array_data = np.array(super_df[useful_cols])\n",
    "means = np.mean(array_data,0)\n",
    "stds = np.std(array_data,0)\n",
    "array_data = array_data - np.repeat(np.array([means]), len(super_df), 0); \n",
    "array_data = np.divide(array_data, np.repeat(np.array([stds]), len(super_df), 0)); \n",
    "\n"
   ]
  },
  {
   "cell_type": "code",
   "execution_count": 63,
   "metadata": {},
   "outputs": [
    {
     "data": {
      "text/plain": [
       "array([[-0.64058388, -0.90040898, -0.98076814, ..., -0.64058388,\n",
       "        -0.90040898, -0.98076814],\n",
       "       [-1.08294582, -1.44579594, -1.26942298, ..., -1.08294582,\n",
       "        -1.44579594, -1.26942298],\n",
       "       [-0.33639234, -0.72733773, -1.91715794, ..., -0.33639234,\n",
       "        -0.72733773, -1.91715794],\n",
       "       ...,\n",
       "       [ 0.62985252,  0.48431017, -1.2457389 , ...,  0.62985252,\n",
       "         0.48431017, -1.2457389 ],\n",
       "       [ 1.08747143,  0.88269967, -1.67617354, ...,  1.08747143,\n",
       "         0.88269967, -1.67617354],\n",
       "       [ 2.48377786,  2.71216446, -0.84303389, ...,  2.48377786,\n",
       "         2.71216446, -0.84303389]])"
      ]
     },
     "execution_count": 63,
     "metadata": {},
     "output_type": "execute_result"
    }
   ],
   "source": [
    "array_data"
   ]
  },
  {
   "cell_type": "code",
   "execution_count": 62,
   "metadata": {},
   "outputs": [
    {
     "data": {
      "image/png": "[encoded data removed]",
      "text/plain": [
       "<Figure size 640x480 with 2 Axes>"
      ]
     },
     "metadata": {},
     "output_type": "display_data"
    }
   ],
   "source": [
    "allStatisticsCov = np.cov(array_data)\n",
    "plt.figure(); \n",
    "plt.imshow(allStatisticsCov); \n",
    "x = np.arange(len(useful_cols))\n",
    "plt.xticks(x, useful_cols,fontsize = 8,rotation = 90)\n",
    "plt.yticks(x, useful_cols,fontsize = 8)\n",
    "plt.colorbar();"
   ]
  },
  {
   "cell_type": "code",
   "execution_count": 26,
   "metadata": {},
   "outputs": [],
   "source": [
    "import plotly.express as px\n",
    "def plot_time_series(df,cols_plot):\n",
    "    fig = px.line(df, x='Date',y=cols_plot,\n",
    "                title=f'Time series of {cols_plot}')\n",
    "    fig.update_xaxes(dtick = \"M1\")\n",
    "    fig.show()"
   ]
  },
  {
   "cell_type": "markdown",
   "metadata": {},
   "source": [
    "### Tasks ###\n",
    "\n",
    "Construct time-series plots of sales and prices for Company 1 in Region 1 and\n",
    "2. Repeat the exercise for Company 2. Describe the differences or similarities\n",
    "between Company 1 and 2 pricing policies.\n"
   ]
  },
  {
   "cell_type": "code",
   "execution_count": 27,
   "metadata": {},
   "outputs": [
    {
     "data": {
      "text/plain": [
       "['Date',\n",
       " 'r1c1_Sales_U',\n",
       " 'r1c1_Sales_USD',\n",
       " 'r1c1_Prices',\n",
       " 'r1c2_Sales_U',\n",
       " 'r1c2_Sales_USD',\n",
       " 'r1c2_Prices',\n",
       " 'r2c1_Sales_U',\n",
       " 'r2c1_Sales_USD',\n",
       " 'r2c1_Prices',\n",
       " 'r2c2_Sales_U',\n",
       " 'r2c2_Sales_USD',\n",
       " 'r2c2_Prices']"
      ]
     },
     "execution_count": 27,
     "metadata": {},
     "output_type": "execute_result"
    }
   ],
   "source": [
    "super_df.columns.to_list()"
   ]
  },
  {
   "cell_type": "markdown",
   "metadata": {},
   "source": [
    "Now, let's plot the data. Let's begin with data from company one"
   ]
  },
  {
   "cell_type": "code",
   "execution_count": 46,
   "metadata": {},
   "outputs": [
    {
     "data": {
      "application/vnd.plotly.v1+json": {
       "config": {
        "plotlyServerURL": "https://plot.ly"
       },
       "data": [
        {
         "mode": "lines",
         "name": "r1c1",
         "type": "scatter",
         "x": [
          "1991-01-05",
          "1991-01-12",
          "1991-01-19",
          "1991-01-26",
          "1991-02-02",
          "1991-02-09",
          "1991-02-16",
          "1991-02-23",
          "1991-03-02",
          "1991-03-09",
          "1991-03-16",
          "1991-03-23",
          "1991-03-30",
          "1991-04-06",
          "1991-04-13",
          "1991-04-20",
          "1991-04-27",
          "1991-05-04",
          "1991-05-11",
          "1991-05-18",
          "1991-05-25",
          "1991-06-01",
          "1991-06-08",
          "1991-06-15",
          "1991-06-22",
          "1991-06-29",
          "1991-07-06",
          "1991-07-13",
          "1991-07-20",
          "1991-07-27",
          "1991-08-03",
          "1991-08-10",
          "1991-08-17",
          "1991-08-24",
          "1991-08-31",
          "1991-09-07",
          "1991-09-14",
          "1991-09-21",
          "1991-09-28",
          "1991-10-05",
          "1991-10-12",
          "1991-10-19",
          "1991-10-26",
          "1991-11-02",
          "1991-11-09",
          "1991-11-16",
          "1991-11-23",
          "1991-11-30",
          "1991-12-07",
          "1991-12-14",
          "1991-12-21",
          "1991-12-28",
          "1992-01-04",
          "1992-01-11",
          "1992-01-18",
          "1992-01-25",
          "1992-02-01",
          "1992-02-08",
          "1992-02-15",
          "1992-02-22",
          "1992-02-29",
          "1992-03-07",
          "1992-03-14",
          "1992-03-21",
          "1992-03-28",
          "1992-04-04",
          "1992-04-11",
          "1992-04-18",
          "1992-04-25",
          "1992-05-02",
          "1992-05-09",
          "1992-05-16",
          "1992-05-23",
          "1992-05-30",
          "1992-06-06",
          "1992-06-13",
          "1992-06-20",
          "1992-06-27",
          "1992-07-04",
          "1992-07-11",
          "1992-07-18",
          "1992-07-25",
          "1992-08-01",
          "1992-08-08",
          "1992-08-15",
          "1992-08-22",
          "1992-08-29",
          "1992-09-05",
          "1992-09-12",
          "1992-09-19",
          "1992-09-26",
          "1992-10-03",
          "1992-10-10",
          "1992-10-17",
          "1992-10-24",
          "1992-10-31",
          "1992-11-07",
          "1992-11-14",
          "1992-11-21",
          "1992-11-28",
          "1992-12-05",
          "1992-12-12",
          "1992-12-19",
          "1992-12-26"
         ],
         "xaxis": "x",
         "y": [
          124885,
          105285,
          138363,
          111494,
          110686,
          117199,
          118615,
          118847,
          127952,
          127798,
          148744,
          131981,
          182559,
          167607,
          139220,
          135372,
          136894,
          149846,
          163378,
          146728,
          157598,
          134317,
          124384,
          125264,
          106087,
          133226,
          172272,
          116089,
          107093,
          105153,
          115674,
          115628,
          132864,
          117772,
          159161,
          137864,
          128183,
          104327,
          117468,
          132344,
          122698,
          123145,
          120775,
          124522,
          129720,
          121330,
          174175,
          179993,
          135794,
          147156,
          250819,
          195663,
          152833,
          146791,
          163850,
          151696,
          133198,
          122976,
          122514,
          121964,
          163999,
          148046,
          139178,
          131292,
          147612,
          158572,
          172929,
          214812,
          164925,
          180673,
          194018,
          174295,
          206829,
          153948,
          189631,
          165597,
          178684,
          181434,
          253185,
          196780,
          164418,
          160778,
          163251,
          164180,
          162433,
          160605,
          191456,
          398276,
          206288,
          126158,
          106190,
          114016,
          118891,
          122654,
          113796,
          116289,
          140538,
          169682,
          264589,
          292666,
          132475,
          181175,
          201451,
          263318
         ],
         "yaxis": "y"
        },
        {
         "mode": "lines",
         "name": "r2c1",
         "type": "scatter",
         "x": [
          "1991-01-05",
          "1991-01-12",
          "1991-01-19",
          "1991-01-26",
          "1991-02-02",
          "1991-02-09",
          "1991-02-16",
          "1991-02-23",
          "1991-03-02",
          "1991-03-09",
          "1991-03-16",
          "1991-03-23",
          "1991-03-30",
          "1991-04-06",
          "1991-04-13",
          "1991-04-20",
          "1991-04-27",
          "1991-05-04",
          "1991-05-11",
          "1991-05-18",
          "1991-05-25",
          "1991-06-01",
          "1991-06-08",
          "1991-06-15",
          "1991-06-22",
          "1991-06-29",
          "1991-07-06",
          "1991-07-13",
          "1991-07-20",
          "1991-07-27",
          "1991-08-03",
          "1991-08-10",
          "1991-08-17",
          "1991-08-24",
          "1991-08-31",
          "1991-09-07",
          "1991-09-14",
          "1991-09-21",
          "1991-09-28",
          "1991-10-05",
          "1991-10-12",
          "1991-10-19",
          "1991-10-26",
          "1991-11-02",
          "1991-11-09",
          "1991-11-16",
          "1991-11-23",
          "1991-11-30",
          "1991-12-07",
          "1991-12-14",
          "1991-12-21",
          "1991-12-28",
          "1992-01-04",
          "1992-01-11",
          "1992-01-18",
          "1992-01-25",
          "1992-02-01",
          "1992-02-08",
          "1992-02-15",
          "1992-02-22",
          "1992-02-29",
          "1992-03-07",
          "1992-03-14",
          "1992-03-21",
          "1992-03-28",
          "1992-04-04",
          "1992-04-11",
          "1992-04-18",
          "1992-04-25",
          "1992-05-02",
          "1992-05-09",
          "1992-05-16",
          "1992-05-23",
          "1992-05-30",
          "1992-06-06",
          "1992-06-13",
          "1992-06-20",
          "1992-06-27",
          "1992-07-04",
          "1992-07-11",
          "1992-07-18",
          "1992-07-25",
          "1992-08-01",
          "1992-08-08",
          "1992-08-15",
          "1992-08-22",
          "1992-08-29",
          "1992-09-05",
          "1992-09-12",
          "1992-09-19",
          "1992-09-26",
          "1992-10-03",
          "1992-10-10",
          "1992-10-17",
          "1992-10-24",
          "1992-10-31",
          "1992-11-07",
          "1992-11-14",
          "1992-11-21",
          "1992-11-28",
          "1992-12-05",
          "1992-12-12",
          "1992-12-19",
          "1992-12-26"
         ],
         "xaxis": "x",
         "y": [
          0,
          0,
          0,
          0,
          0,
          0,
          0,
          0,
          0,
          0,
          0,
          0,
          0,
          0,
          0,
          0,
          5560,
          5342,
          13864,
          10071,
          9729,
          8064,
          5778,
          6664,
          4859,
          11577,
          15774,
          9444,
          8213,
          6388,
          6348,
          6188,
          19104,
          11573,
          5553,
          5383,
          5860,
          7246,
          18576,
          9441,
          6061,
          5882,
          6118,
          8781,
          7403,
          4347,
          14731,
          16365,
          5007,
          5262,
          20158,
          13189,
          10130,
          7547,
          5922,
          10882,
          7989,
          4968,
          4199,
          5937,
          16500,
          11439,
          8214,
          7284,
          4485,
          5064,
          13411,
          11052,
          6226,
          6990,
          7785,
          7170,
          12438,
          6684,
          6028,
          7885,
          6822,
          20857,
          25596,
          7676,
          4490,
          6181,
          7354,
          7169,
          6679,
          6076,
          6065,
          137463,
          44240,
          6421,
          5864,
          4190,
          4155,
          6269,
          7341,
          6794,
          5377,
          4978,
          24591,
          26307,
          5405,
          4574,
          22139,
          24197
         ],
         "yaxis": "y"
        },
        {
         "mode": "lines",
         "name": "r1c1",
         "type": "scatter",
         "x": [
          "1991-01-05",
          "1991-01-12",
          "1991-01-19",
          "1991-01-26",
          "1991-02-02",
          "1991-02-09",
          "1991-02-16",
          "1991-02-23",
          "1991-03-02",
          "1991-03-09",
          "1991-03-16",
          "1991-03-23",
          "1991-03-30",
          "1991-04-06",
          "1991-04-13",
          "1991-04-20",
          "1991-04-27",
          "1991-05-04",
          "1991-05-11",
          "1991-05-18",
          "1991-05-25",
          "1991-06-01",
          "1991-06-08",
          "1991-06-15",
          "1991-06-22",
          "1991-06-29",
          "1991-07-06",
          "1991-07-13",
          "1991-07-20",
          "1991-07-27",
          "1991-08-03",
          "1991-08-10",
          "1991-08-17",
          "1991-08-24",
          "1991-08-31",
          "1991-09-07",
          "1991-09-14",
          "1991-09-21",
          "1991-09-28",
          "1991-10-05",
          "1991-10-12",
          "1991-10-19",
          "1991-10-26",
          "1991-11-02",
          "1991-11-09",
          "1991-11-16",
          "1991-11-23",
          "1991-11-30",
          "1991-12-07",
          "1991-12-14",
          "1991-12-21",
          "1991-12-28",
          "1992-01-04",
          "1992-01-11",
          "1992-01-18",
          "1992-01-25",
          "1992-02-01",
          "1992-02-08",
          "1992-02-15",
          "1992-02-22",
          "1992-02-29",
          "1992-03-07",
          "1992-03-14",
          "1992-03-21",
          "1992-03-28",
          "1992-04-04",
          "1992-04-11",
          "1992-04-18",
          "1992-04-25",
          "1992-05-02",
          "1992-05-09",
          "1992-05-16",
          "1992-05-23",
          "1992-05-30",
          "1992-06-06",
          "1992-06-13",
          "1992-06-20",
          "1992-06-27",
          "1992-07-04",
          "1992-07-11",
          "1992-07-18",
          "1992-07-25",
          "1992-08-01",
          "1992-08-08",
          "1992-08-15",
          "1992-08-22",
          "1992-08-29",
          "1992-09-05",
          "1992-09-12",
          "1992-09-19",
          "1992-09-26",
          "1992-10-03",
          "1992-10-10",
          "1992-10-17",
          "1992-10-24",
          "1992-10-31",
          "1992-11-07",
          "1992-11-14",
          "1992-11-21",
          "1992-11-28",
          "1992-12-05",
          "1992-12-12",
          "1992-12-19",
          "1992-12-26"
         ],
         "xaxis": "x2",
         "y": [
          1.0357528926612483,
          1.0201643159044498,
          0.9851839003201723,
          1.0207275727841858,
          1.0277812912202084,
          1.0379525422571865,
          1.0331576950638621,
          1.0546164396240545,
          1.059428535700888,
          1.0484514624642014,
          1.0225555316516968,
          1.0319439919382336,
          1.0490690680820995,
          1.0118551134499156,
          1.062253986496193,
          1.0557426942055965,
          1.0727716335266704,
          1.0790745165036104,
          1.066508342616509,
          1.0788602039147266,
          1.0726468610007742,
          1.0728574938392013,
          1.0866027784924106,
          1.08351960659088,
          1.1074401199015902,
          1.088976626184078,
          1.0600910188539054,
          1.1105358819526399,
          1.1220901459479145,
          1.1335958080130857,
          1.139115099330878,
          1.1142024423150103,
          1.1091868376685934,
          1.1439646095846212,
          1.1088331940613592,
          1.1258994371264435,
          1.129759796540883,
          1.138046718490899,
          1.1127370858446555,
          1.0699993955147191,
          1.1328872516259434,
          1.1449023508871656,
          1.1222438418546885,
          1.1393729622074813,
          1.1382978723404256,
          1.105044094617984,
          1.076279603846706,
          1.0600690026834376,
          1.0684639969365362,
          1.103488814591318,
          1.0751856916740756,
          1.1013886120523553,
          1.124547708937206,
          1.1235225592849698,
          1.1196826365578272,
          1.115665541609535,
          1.132749740987102,
          1.1332129846474108,
          1.1349804920254012,
          1.0884031353514152,
          1.066902846968579,
          1.1339853829215243,
          1.1343028352182098,
          1.1260244340858545,
          1.1088258407175569,
          1.132362586080771,
          1.089990689820678,
          1.1341638269742844,
          1.1662391996361983,
          1.1274180425409441,
          1.115216113968807,
          1.1219771077770446,
          1.0917231142634738,
          1.133213812456154,
          1.1129667617636356,
          1.141910783407912,
          1.102247543148799,
          1.0996395383445219,
          1.111120327033592,
          1.105640817156215,
          1.1361468938923962,
          1.1216397765863488,
          1.1302411623818538,
          1.1328176391765137,
          1.1341783997094186,
          1.121117026244513,
          1.0525133712184522,
          0.7689416384617702,
          1.019744241061041,
          1.1159736203807924,
          1.123269611074489,
          1.1247631911310694,
          1.1151895433632486,
          1.0959202308934075,
          1.1273594853949171,
          1.1329704443240547,
          1.0748978923849777,
          1.0353779422684788,
          0.9843039582144383,
          0.9276957350700116,
          1.1086167201358748,
          1.0214433558713951,
          0.9981980729805263,
          1.0431911225210582
         ],
         "yaxis": "y2"
        },
        {
         "mode": "lines",
         "name": "r2c1",
         "type": "scatter",
         "x": [
          "1991-01-05",
          "1991-01-12",
          "1991-01-19",
          "1991-01-26",
          "1991-02-02",
          "1991-02-09",
          "1991-02-16",
          "1991-02-23",
          "1991-03-02",
          "1991-03-09",
          "1991-03-16",
          "1991-03-23",
          "1991-03-30",
          "1991-04-06",
          "1991-04-13",
          "1991-04-20",
          "1991-04-27",
          "1991-05-04",
          "1991-05-11",
          "1991-05-18",
          "1991-05-25",
          "1991-06-01",
          "1991-06-08",
          "1991-06-15",
          "1991-06-22",
          "1991-06-29",
          "1991-07-06",
          "1991-07-13",
          "1991-07-20",
          "1991-07-27",
          "1991-08-03",
          "1991-08-10",
          "1991-08-17",
          "1991-08-24",
          "1991-08-31",
          "1991-09-07",
          "1991-09-14",
          "1991-09-21",
          "1991-09-28",
          "1991-10-05",
          "1991-10-12",
          "1991-10-19",
          "1991-10-26",
          "1991-11-02",
          "1991-11-09",
          "1991-11-16",
          "1991-11-23",
          "1991-11-30",
          "1991-12-07",
          "1991-12-14",
          "1991-12-21",
          "1991-12-28",
          "1992-01-04",
          "1992-01-11",
          "1992-01-18",
          "1992-01-25",
          "1992-02-01",
          "1992-02-08",
          "1992-02-15",
          "1992-02-22",
          "1992-02-29",
          "1992-03-07",
          "1992-03-14",
          "1992-03-21",
          "1992-03-28",
          "1992-04-04",
          "1992-04-11",
          "1992-04-18",
          "1992-04-25",
          "1992-05-02",
          "1992-05-09",
          "1992-05-16",
          "1992-05-23",
          "1992-05-30",
          "1992-06-06",
          "1992-06-13",
          "1992-06-20",
          "1992-06-27",
          "1992-07-04",
          "1992-07-11",
          "1992-07-18",
          "1992-07-25",
          "1992-08-01",
          "1992-08-08",
          "1992-08-15",
          "1992-08-22",
          "1992-08-29",
          "1992-09-05",
          "1992-09-12",
          "1992-09-19",
          "1992-09-26",
          "1992-10-03",
          "1992-10-10",
          "1992-10-17",
          "1992-10-24",
          "1992-10-31",
          "1992-11-07",
          "1992-11-14",
          "1992-11-21",
          "1992-11-28",
          "1992-12-05",
          "1992-12-12",
          "1992-12-19",
          "1992-12-26"
         ],
         "xaxis": "x2",
         "y": [
          null,
          null,
          null,
          null,
          null,
          null,
          null,
          null,
          null,
          null,
          null,
          null,
          null,
          null,
          null,
          null,
          1.0769784172661871,
          1.0885436166229876,
          0.9948066935949221,
          1.0693079138119352,
          1.0222016651248844,
          1.1044146825396826,
          1.111803392177224,
          1.1210984393757504,
          1.1055772792755711,
          1.0708300941521984,
          1.0700519842779257,
          1.1484540448962304,
          1.1652258614391817,
          1.1804946775203506,
          1.1707624448645242,
          1.1801874595992243,
          0.9844535175879398,
          1.2142054782683833,
          1.1478480100846389,
          1.1855842467025821,
          1.2005119453924915,
          1.1182721501518078,
          0.9862187769164513,
          1.2126893337570173,
          1.178023428477149,
          1.1734104046242775,
          1.1332134684537432,
          1.1325589340621798,
          1.120896933675537,
          1.1688520818955601,
          0.9211187292105084,
          0.94946532233425,
          1.1601757539444777,
          1.1674268339034588,
          0.934616529417601,
          1.0028053681097884,
          0.9827245804540967,
          1.1050748641844441,
          1.154002026342452,
          1.0895975004594745,
          1.1270496933283265,
          1.143719806763285,
          1.177185044058109,
          1.1948795688057943,
          0.9710909090909091,
          1.118366990121514,
          1.0763330898466033,
          1.1261669412410764,
          1.1634336677814938,
          1.1567930489731437,
          0.9643576168816643,
          1.0669562070213536,
          1.147124959845808,
          1.1630901287553648,
          1.165446371226718,
          1.1623430962343095,
          1.0766200353754622,
          1.1149012567324954,
          1.1650630391506305,
          1.0974001268230817,
          1.129287598944591,
          0.9869588147864027,
          0.9874199093608377,
          1.1280614903595623,
          1.1478841870824052,
          1.1661543439572886,
          1.1244220832200162,
          1.1134049379271864,
          1.1706842341667913,
          1.1785714285714286,
          1.1272877164056059,
          0.4949986541833075,
          0.8204566003616637,
          1.124591185173649,
          1.1301159618008185,
          1.179474940334129,
          1.1610108303249098,
          1.1413303557186154,
          1.1401716387413159,
          1.1427730350309095,
          1.1763064906081457,
          1.1904379268782643,
          1.0309056158757268,
          0.8450222374273008,
          1.1757631822386678,
          1.1740271097507653,
          0.7450201002755319,
          0.9421415878001406
         ],
         "yaxis": "y2"
        }
       ],
       "layout": {
        "annotations": [
         {
          "font": {
           "size": 16
          },
          "showarrow": false,
          "text": "Sales(lbs)",
          "x": 0.5,
          "xanchor": "center",
          "xref": "paper",
          "y": 1,
          "yanchor": "bottom",
          "yref": "paper"
         },
         {
          "font": {
           "size": 16
          },
          "showarrow": false,
          "text": "Prices(USD/lb)",
          "x": 0.5,
          "xanchor": "center",
          "xref": "paper",
          "y": 0.375,
          "yanchor": "bottom",
          "yref": "paper"
         }
        ],
        "height": 700,
        "template": {
         "data": {
          "bar": [
           {
            "error_x": {
             "color": "#2a3f5f"
            },
            "error_y": {
             "color": "#2a3f5f"
            },
            "marker": {
             "line": {
              "color": "#E5ECF6",
              "width": 0.5
             },
             "pattern": {
              "fillmode": "overlay",
              "size": 10,
              "solidity": 0.2
             }
            },
            "type": "bar"
           }
          ],
          "barpolar": [
           {
            "marker": {
             "line": {
              "color": "#E5ECF6",
              "width": 0.5
             },
             "pattern": {
              "fillmode": "overlay",
              "size": 10,
              "solidity": 0.2
             }
            },
            "type": "barpolar"
           }
          ],
          "carpet": [
           {
            "aaxis": {
             "endlinecolor": "#2a3f5f",
             "gridcolor": "white",
             "linecolor": "white",
             "minorgridcolor": "white",
             "startlinecolor": "#2a3f5f"
            },
            "baxis": {
             "endlinecolor": "#2a3f5f",
             "gridcolor": "white",
             "linecolor": "white",
             "minorgridcolor": "white",
             "startlinecolor": "#2a3f5f"
            },
            "type": "carpet"
           }
          ],
          "choropleth": [
           {
            "colorbar": {
             "outlinewidth": 0,
             "ticks": ""
            },
            "type": "choropleth"
           }
          ],
          "contour": [
           {
            "colorbar": {
             "outlinewidth": 0,
             "ticks": ""
            },
            "colorscale": [
             [
              0,
              "#0d0887"
             ],
             [
              0.1111111111111111,
              "#46039f"
             ],
             [
              0.2222222222222222,
              "#7201a8"
             ],
             [
              0.3333333333333333,
              "#9c179e"
             ],
             [
              0.4444444444444444,
              "#bd3786"
             ],
             [
              0.5555555555555556,
              "#d8576b"
             ],
             [
              0.6666666666666666,
              "#ed7953"
             ],
             [
              0.7777777777777778,
              "#fb9f3a"
             ],
             [
              0.8888888888888888,
              "#fdca26"
             ],
             [
              1,
              "#f0f921"
             ]
            ],
            "type": "contour"
           }
          ],
          "contourcarpet": [
           {
            "colorbar": {
             "outlinewidth": 0,
             "ticks": ""
            },
            "type": "contourcarpet"
           }
          ],
          "heatmap": [
           {
            "colorbar": {
             "outlinewidth": 0,
             "ticks": ""
            },
            "colorscale": [
             [
              0,
              "#0d0887"
             ],
             [
              0.1111111111111111,
              "#46039f"
             ],
             [
              0.2222222222222222,
              "#7201a8"
             ],
             [
              0.3333333333333333,
              "#9c179e"
             ],
             [
              0.4444444444444444,
              "#bd3786"
             ],
             [
              0.5555555555555556,
              "#d8576b"
             ],
             [
              0.6666666666666666,
              "#ed7953"
             ],
             [
              0.7777777777777778,
              "#fb9f3a"
             ],
             [
              0.8888888888888888,
              "#fdca26"
             ],
             [
              1,
              "#f0f921"
             ]
            ],
            "type": "heatmap"
           }
          ],
          "heatmapgl": [
           {
            "colorbar": {
             "outlinewidth": 0,
             "ticks": ""
            },
            "colorscale": [
             [
              0,
              "#0d0887"
             ],
             [
              0.1111111111111111,
              "#46039f"
             ],
             [
              0.2222222222222222,
              "#7201a8"
             ],
             [
              0.3333333333333333,
              "#9c179e"
             ],
             [
              0.4444444444444444,
              "#bd3786"
             ],
             [
              0.5555555555555556,
              "#d8576b"
             ],
             [
              0.6666666666666666,
              "#ed7953"
             ],
             [
              0.7777777777777778,
              "#fb9f3a"
             ],
             [
              0.8888888888888888,
              "#fdca26"
             ],
             [
              1,
              "#f0f921"
             ]
            ],
            "type": "heatmapgl"
           }
          ],
          "histogram": [
           {
            "marker": {
             "pattern": {
              "fillmode": "overlay",
              "size": 10,
              "solidity": 0.2
             }
            },
            "type": "histogram"
           }
          ],
          "histogram2d": [
           {
            "colorbar": {
             "outlinewidth": 0,
             "ticks": ""
            },
            "colorscale": [
             [
              0,
              "#0d0887"
             ],
             [
              0.1111111111111111,
              "#46039f"
             ],
             [
              0.2222222222222222,
              "#7201a8"
             ],
             [
              0.3333333333333333,
              "#9c179e"
             ],
             [
              0.4444444444444444,
              "#bd3786"
             ],
             [
              0.5555555555555556,
              "#d8576b"
             ],
             [
              0.6666666666666666,
              "#ed7953"
             ],
             [
              0.7777777777777778,
              "#fb9f3a"
             ],
             [
              0.8888888888888888,
              "#fdca26"
             ],
             [
              1,
              "#f0f921"
             ]
            ],
            "type": "histogram2d"
           }
          ],
          "histogram2dcontour": [
           {
            "colorbar": {
             "outlinewidth": 0,
             "ticks": ""
            },
            "colorscale": [
             [
              0,
              "#0d0887"
             ],
             [
              0.1111111111111111,
              "#46039f"
             ],
             [
              0.2222222222222222,
              "#7201a8"
             ],
             [
              0.3333333333333333,
              "#9c179e"
             ],
             [
              0.4444444444444444,
              "#bd3786"
             ],
             [
              0.5555555555555556,
              "#d8576b"
             ],
             [
              0.6666666666666666,
              "#ed7953"
             ],
             [
              0.7777777777777778,
              "#fb9f3a"
             ],
             [
              0.8888888888888888,
              "#fdca26"
             ],
             [
              1,
              "#f0f921"
             ]
            ],
            "type": "histogram2dcontour"
           }
          ],
          "mesh3d": [
           {
            "colorbar": {
             "outlinewidth": 0,
             "ticks": ""
            },
            "type": "mesh3d"
           }
          ],
          "parcoords": [
           {
            "line": {
             "colorbar": {
              "outlinewidth": 0,
              "ticks": ""
             }
            },
            "type": "parcoords"
           }
          ],
          "pie": [
           {
            "automargin": true,
            "type": "pie"
           }
          ],
          "scatter": [
           {
            "fillpattern": {
             "fillmode": "overlay",
             "size": 10,
             "solidity": 0.2
            },
            "type": "scatter"
           }
          ],
          "scatter3d": [
           {
            "line": {
             "colorbar": {
              "outlinewidth": 0,
              "ticks": ""
             }
            },
            "marker": {
             "colorbar": {
              "outlinewidth": 0,
              "ticks": ""
             }
            },
            "type": "scatter3d"
           }
          ],
          "scattercarpet": [
           {
            "marker": {
             "colorbar": {
              "outlinewidth": 0,
              "ticks": ""
             }
            },
            "type": "scattercarpet"
           }
          ],
          "scattergeo": [
           {
            "marker": {
             "colorbar": {
              "outlinewidth": 0,
              "ticks": ""
             }
            },
            "type": "scattergeo"
           }
          ],
          "scattergl": [
           {
            "marker": {
             "colorbar": {
              "outlinewidth": 0,
              "ticks": ""
             }
            },
            "type": "scattergl"
           }
          ],
          "scattermapbox": [
           {
            "marker": {
             "colorbar": {
              "outlinewidth": 0,
              "ticks": ""
             }
            },
            "type": "scattermapbox"
           }
          ],
          "scatterpolar": [
           {
            "marker": {
             "colorbar": {
              "outlinewidth": 0,
              "ticks": ""
             }
            },
            "type": "scatterpolar"
           }
          ],
          "scatterpolargl": [
           {
            "marker": {
             "colorbar": {
              "outlinewidth": 0,
              "ticks": ""
             }
            },
            "type": "scatterpolargl"
           }
          ],
          "scatterternary": [
           {
            "marker": {
             "colorbar": {
              "outlinewidth": 0,
              "ticks": ""
             }
            },
            "type": "scatterternary"
           }
          ],
          "surface": [
           {
            "colorbar": {
             "outlinewidth": 0,
             "ticks": ""
            },
            "colorscale": [
             [
              0,
              "#0d0887"
             ],
             [
              0.1111111111111111,
              "#46039f"
             ],
             [
              0.2222222222222222,
              "#7201a8"
             ],
             [
              0.3333333333333333,
              "#9c179e"
             ],
             [
              0.4444444444444444,
              "#bd3786"
             ],
             [
              0.5555555555555556,
              "#d8576b"
             ],
             [
              0.6666666666666666,
              "#ed7953"
             ],
             [
              0.7777777777777778,
              "#fb9f3a"
             ],
             [
              0.8888888888888888,
              "#fdca26"
             ],
             [
              1,
              "#f0f921"
             ]
            ],
            "type": "surface"
           }
          ],
          "table": [
           {
            "cells": {
             "fill": {
              "color": "#EBF0F8"
             },
             "line": {
              "color": "white"
             }
            },
            "header": {
             "fill": {
              "color": "#C8D4E3"
             },
             "line": {
              "color": "white"
             }
            },
            "type": "table"
           }
          ]
         },
         "layout": {
          "annotationdefaults": {
           "arrowcolor": "#2a3f5f",
           "arrowhead": 0,
           "arrowwidth": 1
          },
          "autotypenumbers": "strict",
          "coloraxis": {
           "colorbar": {
            "outlinewidth": 0,
            "ticks": ""
           }
          },
          "colorscale": {
           "diverging": [
            [
             0,
             "#8e0152"
            ],
            [
             0.1,
             "#c51b7d"
            ],
            [
             0.2,
             "#de77ae"
            ],
            [
             0.3,
             "#f1b6da"
            ],
            [
             0.4,
             "#fde0ef"
            ],
            [
             0.5,
             "#f7f7f7"
            ],
            [
             0.6,
             "#e6f5d0"
            ],
            [
             0.7,
             "#b8e186"
            ],
            [
             0.8,
             "#7fbc41"
            ],
            [
             0.9,
             "#4d9221"
            ],
            [
             1,
             "#276419"
            ]
           ],
           "sequential": [
            [
             0,
             "#0d0887"
            ],
            [
             0.1111111111111111,
             "#46039f"
            ],
            [
             0.2222222222222222,
             "#7201a8"
            ],
            [
             0.3333333333333333,
             "#9c179e"
            ],
            [
             0.4444444444444444,
             "#bd3786"
            ],
            [
             0.5555555555555556,
             "#d8576b"
            ],
            [
             0.6666666666666666,
             "#ed7953"
            ],
            [
             0.7777777777777778,
             "#fb9f3a"
            ],
            [
             0.8888888888888888,
             "#fdca26"
            ],
            [
             1,
             "#f0f921"
            ]
           ],
           "sequentialminus": [
            [
             0,
             "#0d0887"
            ],
            [
             0.1111111111111111,
             "#46039f"
            ],
            [
             0.2222222222222222,
             "#7201a8"
            ],
            [
             0.3333333333333333,
             "#9c179e"
            ],
            [
             0.4444444444444444,
             "#bd3786"
            ],
            [
             0.5555555555555556,
             "#d8576b"
            ],
            [
             0.6666666666666666,
             "#ed7953"
            ],
            [
             0.7777777777777778,
             "#fb9f3a"
            ],
            [
             0.8888888888888888,
             "#fdca26"
            ],
            [
             1,
             "#f0f921"
            ]
           ]
          },
          "colorway": [
           "#636efa",
           "#EF553B",
           "#00cc96",
           "#ab63fa",
           "#FFA15A",
           "#19d3f3",
           "#FF6692",
           "#B6E880",
           "#FF97FF",
           "#FECB52"
          ],
          "font": {
           "color": "#2a3f5f"
          },
          "geo": {
           "bgcolor": "white",
           "lakecolor": "white",
           "landcolor": "#E5ECF6",
           "showlakes": true,
           "showland": true,
           "subunitcolor": "white"
          },
          "hoverlabel": {
           "align": "left"
          },
          "hovermode": "closest",
          "mapbox": {
           "style": "light"
          },
          "paper_bgcolor": "white",
          "plot_bgcolor": "#E5ECF6",
          "polar": {
           "angularaxis": {
            "gridcolor": "white",
            "linecolor": "white",
            "ticks": ""
           },
           "bgcolor": "#E5ECF6",
           "radialaxis": {
            "gridcolor": "white",
            "linecolor": "white",
            "ticks": ""
           }
          },
          "scene": {
           "xaxis": {
            "backgroundcolor": "#E5ECF6",
            "gridcolor": "white",
            "gridwidth": 2,
            "linecolor": "white",
            "showbackground": true,
            "ticks": "",
            "zerolinecolor": "white"
           },
           "yaxis": {
            "backgroundcolor": "#E5ECF6",
            "gridcolor": "white",
            "gridwidth": 2,
            "linecolor": "white",
            "showbackground": true,
            "ticks": "",
            "zerolinecolor": "white"
           },
           "zaxis": {
            "backgroundcolor": "#E5ECF6",
            "gridcolor": "white",
            "gridwidth": 2,
            "linecolor": "white",
            "showbackground": true,
            "ticks": "",
            "zerolinecolor": "white"
           }
          },
          "shapedefaults": {
           "line": {
            "color": "#2a3f5f"
           }
          },
          "ternary": {
           "aaxis": {
            "gridcolor": "white",
            "linecolor": "white",
            "ticks": ""
           },
           "baxis": {
            "gridcolor": "white",
            "linecolor": "white",
            "ticks": ""
           },
           "bgcolor": "#E5ECF6",
           "caxis": {
            "gridcolor": "white",
            "linecolor": "white",
            "ticks": ""
           }
          },
          "title": {
           "x": 0.05
          },
          "xaxis": {
           "automargin": true,
           "gridcolor": "white",
           "linecolor": "white",
           "ticks": "",
           "title": {
            "standoff": 15
           },
           "zerolinecolor": "white",
           "zerolinewidth": 2
          },
          "yaxis": {
           "automargin": true,
           "gridcolor": "white",
           "linecolor": "white",
           "ticks": "",
           "title": {
            "standoff": 15
           },
           "zerolinecolor": "white",
           "zerolinewidth": 2
          }
         }
        },
        "title": {
         "text": "Sales and Prices for Company 1 in both regions"
        },
        "width": 1200,
        "xaxis": {
         "anchor": "y",
         "domain": [
          0,
          1
         ]
        },
        "xaxis2": {
         "anchor": "y2",
         "domain": [
          0,
          1
         ]
        },
        "yaxis": {
         "anchor": "x",
         "domain": [
          0.625,
          1
         ]
        },
        "yaxis2": {
         "anchor": "x2",
         "domain": [
          0,
          0.375
         ]
        }
       }
      }
     },
     "metadata": {},
     "output_type": "display_data"
    }
   ],
   "source": [
    "from plotly.subplots import make_subplots\n",
    "import plotly.graph_objects as go\n",
    "\n",
    "fig = make_subplots(rows=2, cols=1, subplot_titles=(\"Sales(lbs)\",\"Prices(USD/lb)\"))\n",
    "\n",
    "fig.add_trace(\n",
    "    go.Scatter(x=super_df['Date'], y=super_df['r1c1_Sales_U'],mode='lines',\n",
    "                    name='r1c1'),\n",
    "    row=1, col=1\n",
    ")\n",
    "fig.add_trace(\n",
    "    go.Scatter(x=super_df['Date'], y=super_df['r2c1_Sales_U'],mode='lines',\n",
    "                    name='r2c1'),\n",
    "    row=1, col=1\n",
    ")\n",
    "\n",
    "fig.add_trace(\n",
    "    go.Scatter(x=super_df['Date'], y=super_df['r1c1_Prices'], mode='lines',\n",
    "                    name='r1c1'),\n",
    "    row=2, col=1\n",
    ")\n",
    "fig.add_trace(\n",
    "    go.Scatter(x=super_df['Date'], y=super_df['r2c1_Prices'], mode='lines',\n",
    "                    name='r2c1'),\n",
    "    row=2, col=1\n",
    ")\n",
    "\n",
    "fig.update_layout(height=700, width=1200, title_text=\"Sales and Prices for Company 1 in both regions\")\n",
    "fig.show()\n"
   ]
  },
  {
   "cell_type": "markdown",
   "metadata": {},
   "source": [
    "Sales in region 2 look much more steady, although it needs to be pointed out that those sales are negligible are compared to Region 1's. Only in September sales in region 2 exceed 30k lbs, and they do so reaching the 100k mark. On the other hand, sales in region 1 never drop below 100k and even reach 400k. Despite the differences in amounts sold, there appears to some correlation in the data. When sales in region 1 spike, so do sales in region 2. Let's see how strong is this correlation through Pearson's corr. coefficient"
   ]
  },
  {
   "cell_type": "code",
   "execution_count": 47,
   "metadata": {},
   "outputs": [
    {
     "data": {
      "text/plain": [
       "array([[1.        , 0.72771559],\n",
       "       [0.72771559, 1.        ]])"
      ]
     },
     "execution_count": 47,
     "metadata": {},
     "output_type": "execute_result"
    }
   ],
   "source": [
    "#Note that first 17 weeks are avoided since no sales took place in week 2\n",
    "np.corrcoef(super_df['r1c1_Sales_U'].to_list()[17:],super_df['r2c1_Sales_U'].to_list()[17:])"
   ]
  },
  {
   "cell_type": "markdown",
   "metadata": {},
   "source": [
    "Which is over 0.7, a decent value. Prices allow for a better comparison definetely. Prices in region 1 look much more steady, probably beacause the volatility of the market is much smaller in relative terms. Again, there is some correlation between the data. Skipping the first 17 weeks of the year where there were no sales in region 2: "
   ]
  },
  {
   "cell_type": "code",
   "execution_count": null,
   "metadata": {},
   "outputs": [
    {
     "data": {
      "text/plain": [
       "array([[1.        , 0.74221324],\n",
       "       [0.74221324, 1.        ]])"
      ]
     },
     "execution_count": 33,
     "metadata": {},
     "output_type": "execute_result"
    }
   ],
   "source": [
    "np.corrcoef(super_df['r1c1_Prices'].to_list()[17:],super_df['r2c1_Prices'].to_list()[17:])"
   ]
  },
  {
   "cell_type": "markdown",
   "metadata": {},
   "source": [
    "Gives again a strong correlation in both markets. This probably means that the product is very global or that both regions are geographically close or share some socioeconomic similarities. It is also interesting to note that sharp increases in demand lead to pronounced fall in price, pointing to the elasticity of the market. When supply rises and demand does not, the price drops"
   ]
  },
  {
   "cell_type": "code",
   "execution_count": 48,
   "metadata": {},
   "outputs": [
    {
     "data": {
      "application/vnd.plotly.v1+json": {
       "config": {
        "plotlyServerURL": "https://plot.ly"
       },
       "data": [
        {
         "mode": "lines",
         "name": "r1c2",
         "type": "scatter",
         "x": [
          "1991-01-05",
          "1991-01-12",
          "1991-01-19",
          "1991-01-26",
          "1991-02-02",
          "1991-02-09",
          "1991-02-16",
          "1991-02-23",
          "1991-03-02",
          "1991-03-09",
          "1991-03-16",
          "1991-03-23",
          "1991-03-30",
          "1991-04-06",
          "1991-04-13",
          "1991-04-20",
          "1991-04-27",
          "1991-05-04",
          "1991-05-11",
          "1991-05-18",
          "1991-05-25",
          "1991-06-01",
          "1991-06-08",
          "1991-06-15",
          "1991-06-22",
          "1991-06-29",
          "1991-07-06",
          "1991-07-13",
          "1991-07-20",
          "1991-07-27",
          "1991-08-03",
          "1991-08-10",
          "1991-08-17",
          "1991-08-24",
          "1991-08-31",
          "1991-09-07",
          "1991-09-14",
          "1991-09-21",
          "1991-09-28",
          "1991-10-05",
          "1991-10-12",
          "1991-10-19",
          "1991-10-26",
          "1991-11-02",
          "1991-11-09",
          "1991-11-16",
          "1991-11-23",
          "1991-11-30",
          "1991-12-07",
          "1991-12-14",
          "1991-12-21",
          "1991-12-28",
          "1992-01-04",
          "1992-01-11",
          "1992-01-18",
          "1992-01-25",
          "1992-02-01",
          "1992-02-08",
          "1992-02-15",
          "1992-02-22",
          "1992-02-29",
          "1992-03-07",
          "1992-03-14",
          "1992-03-21",
          "1992-03-28",
          "1992-04-04",
          "1992-04-11",
          "1992-04-18",
          "1992-04-25",
          "1992-05-02",
          "1992-05-09",
          "1992-05-16",
          "1992-05-23",
          "1992-05-30",
          "1992-06-06",
          "1992-06-13",
          "1992-06-20",
          "1992-06-27",
          "1992-07-04",
          "1992-07-11",
          "1992-07-18",
          "1992-07-25",
          "1992-08-01",
          "1992-08-08",
          "1992-08-15",
          "1992-08-22",
          "1992-08-29",
          "1992-09-05",
          "1992-09-12",
          "1992-09-19",
          "1992-09-26",
          "1992-10-03",
          "1992-10-10",
          "1992-10-17",
          "1992-10-24",
          "1992-10-31",
          "1992-11-07",
          "1992-11-14",
          "1992-11-21",
          "1992-11-28",
          "1992-12-05",
          "1992-12-12",
          "1992-12-19",
          "1992-12-26"
         ],
         "xaxis": "x",
         "y": [
          302306,
          287260,
          307435,
          294160,
          300197,
          319693,
          289370,
          301329,
          304963,
          304127,
          299868,
          335483,
          432755,
          348651,
          320465,
          296988,
          311504,
          365760,
          343422,
          445409,
          471983,
          413248,
          431974,
          422852,
          459204,
          460270,
          504945,
          356481,
          365183,
          368845,
          388670,
          328830,
          309222,
          327039,
          418397,
          352359,
          311445,
          270909,
          256133,
          273709,
          247127,
          242213,
          234448,
          254578,
          371004,
          401886,
          462159,
          497259,
          430693,
          380640,
          492998,
          386109,
          302767,
          260282,
          271872,
          310015,
          266406,
          358188,
          297549,
          268970,
          273661,
          345307,
          287816,
          320272,
          305190,
          332108,
          345455,
          492236,
          298295,
          337654,
          356906,
          414209,
          643756,
          437075,
          465718,
          389645,
          387601,
          344753,
          561294,
          424575,
          377983,
          353239,
          335157,
          342974,
          359178,
          364730,
          439700,
          455767,
          372166,
          330552,
          280124,
          294344,
          276771,
          252904,
          265068,
          249130,
          270962,
          270766,
          341232,
          424955,
          358501,
          325466,
          352813,
          466706
         ],
         "yaxis": "y"
        },
        {
         "mode": "lines",
         "name": "r2c2",
         "type": "scatter",
         "x": [
          "1991-01-05",
          "1991-01-12",
          "1991-01-19",
          "1991-01-26",
          "1991-02-02",
          "1991-02-09",
          "1991-02-16",
          "1991-02-23",
          "1991-03-02",
          "1991-03-09",
          "1991-03-16",
          "1991-03-23",
          "1991-03-30",
          "1991-04-06",
          "1991-04-13",
          "1991-04-20",
          "1991-04-27",
          "1991-05-04",
          "1991-05-11",
          "1991-05-18",
          "1991-05-25",
          "1991-06-01",
          "1991-06-08",
          "1991-06-15",
          "1991-06-22",
          "1991-06-29",
          "1991-07-06",
          "1991-07-13",
          "1991-07-20",
          "1991-07-27",
          "1991-08-03",
          "1991-08-10",
          "1991-08-17",
          "1991-08-24",
          "1991-08-31",
          "1991-09-07",
          "1991-09-14",
          "1991-09-21",
          "1991-09-28",
          "1991-10-05",
          "1991-10-12",
          "1991-10-19",
          "1991-10-26",
          "1991-11-02",
          "1991-11-09",
          "1991-11-16",
          "1991-11-23",
          "1991-11-30",
          "1991-12-07",
          "1991-12-14",
          "1991-12-21",
          "1991-12-28",
          "1992-01-04",
          "1992-01-11",
          "1992-01-18",
          "1992-01-25",
          "1992-02-01",
          "1992-02-08",
          "1992-02-15",
          "1992-02-22",
          "1992-02-29",
          "1992-03-07",
          "1992-03-14",
          "1992-03-21",
          "1992-03-28",
          "1992-04-04",
          "1992-04-11",
          "1992-04-18",
          "1992-04-25",
          "1992-05-02",
          "1992-05-09",
          "1992-05-16",
          "1992-05-23",
          "1992-05-30",
          "1992-06-06",
          "1992-06-13",
          "1992-06-20",
          "1992-06-27",
          "1992-07-04",
          "1992-07-11",
          "1992-07-18",
          "1992-07-25",
          "1992-08-01",
          "1992-08-08",
          "1992-08-15",
          "1992-08-22",
          "1992-08-29",
          "1992-09-05",
          "1992-09-12",
          "1992-09-19",
          "1992-09-26",
          "1992-10-03",
          "1992-10-10",
          "1992-10-17",
          "1992-10-24",
          "1992-10-31",
          "1992-11-07",
          "1992-11-14",
          "1992-11-21",
          "1992-11-28",
          "1992-12-05",
          "1992-12-12",
          "1992-12-19",
          "1992-12-26"
         ],
         "xaxis": "x",
         "y": [
          124885,
          105285,
          138363,
          111494,
          110686,
          117199,
          118615,
          118847,
          127952,
          127798,
          148744,
          131981,
          182559,
          167607,
          139220,
          135372,
          136894,
          149846,
          163378,
          146728,
          157598,
          134317,
          124384,
          125264,
          106087,
          133226,
          172272,
          116089,
          107093,
          105153,
          115674,
          115628,
          132864,
          117772,
          159161,
          137864,
          128183,
          104327,
          117468,
          132344,
          122698,
          123145,
          120775,
          124522,
          129720,
          121330,
          174175,
          179993,
          135794,
          147156,
          250819,
          195663,
          152833,
          146791,
          163850,
          151696,
          133198,
          122976,
          122514,
          121964,
          163999,
          148046,
          139178,
          131292,
          147612,
          158572,
          172929,
          214812,
          164925,
          180673,
          194018,
          174295,
          206829,
          153948,
          189631,
          165597,
          178684,
          181434,
          253185,
          196780,
          164418,
          160778,
          163251,
          164180,
          162433,
          160605,
          191456,
          398276,
          206288,
          126158,
          106190,
          114016,
          118891,
          122654,
          113796,
          116289,
          140538,
          169682,
          264589,
          292666,
          132475,
          181175,
          201451,
          263318
         ],
         "yaxis": "y"
        },
        {
         "mode": "lines",
         "name": "r1c2",
         "type": "scatter",
         "x": [
          "1991-01-05",
          "1991-01-12",
          "1991-01-19",
          "1991-01-26",
          "1991-02-02",
          "1991-02-09",
          "1991-02-16",
          "1991-02-23",
          "1991-03-02",
          "1991-03-09",
          "1991-03-16",
          "1991-03-23",
          "1991-03-30",
          "1991-04-06",
          "1991-04-13",
          "1991-04-20",
          "1991-04-27",
          "1991-05-04",
          "1991-05-11",
          "1991-05-18",
          "1991-05-25",
          "1991-06-01",
          "1991-06-08",
          "1991-06-15",
          "1991-06-22",
          "1991-06-29",
          "1991-07-06",
          "1991-07-13",
          "1991-07-20",
          "1991-07-27",
          "1991-08-03",
          "1991-08-10",
          "1991-08-17",
          "1991-08-24",
          "1991-08-31",
          "1991-09-07",
          "1991-09-14",
          "1991-09-21",
          "1991-09-28",
          "1991-10-05",
          "1991-10-12",
          "1991-10-19",
          "1991-10-26",
          "1991-11-02",
          "1991-11-09",
          "1991-11-16",
          "1991-11-23",
          "1991-11-30",
          "1991-12-07",
          "1991-12-14",
          "1991-12-21",
          "1991-12-28",
          "1992-01-04",
          "1992-01-11",
          "1992-01-18",
          "1992-01-25",
          "1992-02-01",
          "1992-02-08",
          "1992-02-15",
          "1992-02-22",
          "1992-02-29",
          "1992-03-07",
          "1992-03-14",
          "1992-03-21",
          "1992-03-28",
          "1992-04-04",
          "1992-04-11",
          "1992-04-18",
          "1992-04-25",
          "1992-05-02",
          "1992-05-09",
          "1992-05-16",
          "1992-05-23",
          "1992-05-30",
          "1992-06-06",
          "1992-06-13",
          "1992-06-20",
          "1992-06-27",
          "1992-07-04",
          "1992-07-11",
          "1992-07-18",
          "1992-07-25",
          "1992-08-01",
          "1992-08-08",
          "1992-08-15",
          "1992-08-22",
          "1992-08-29",
          "1992-09-05",
          "1992-09-12",
          "1992-09-19",
          "1992-09-26",
          "1992-10-03",
          "1992-10-10",
          "1992-10-17",
          "1992-10-24",
          "1992-10-31",
          "1992-11-07",
          "1992-11-14",
          "1992-11-21",
          "1992-11-28",
          "1992-12-05",
          "1992-12-12",
          "1992-12-19",
          "1992-12-26"
         ],
         "xaxis": "x2",
         "y": [
          1.0477430153553022,
          1.030877950288937,
          1.029290744384992,
          1.0538244492793039,
          1.038931101909746,
          1.0362535307310452,
          1.038974323530428,
          1.0082235695867308,
          1.0386932185215911,
          1.0438501020955062,
          1.045760134459162,
          1.0404282780349525,
          1.0493997758546985,
          1.034954725499138,
          1.0536158394832509,
          1.0574838040594232,
          1.0540570907596691,
          1.0328412073490814,
          1.059244894037074,
          1.0134617845620542,
          1.0496225499647234,
          1.0451520636518508,
          1.0105353562945918,
          1.0548158693821952,
          1.0213804757798277,
          1.0504834119104005,
          1.0602045767360802,
          1.0767193763482485,
          1.0894072287045125,
          1.059024793612493,
          1.0844701160367407,
          1.114992549341605,
          1.121359411684809,
          1.1075284599084514,
          1.0898381202542082,
          1.1091245008641755,
          1.0916694761514874,
          1.1031084238618871,
          1.1145850007613232,
          1.1135622138840886,
          1.1287030555139665,
          1.1329201983378265,
          1.1394083122909984,
          1.135384832939217,
          1.0279862211728175,
          1.0556575745360626,
          1.0345963185829985,
          1.0351486850916725,
          1.0326914995135745,
          1.067722782681799,
          1.1149781540695904,
          1.1438272612138023,
          1.140586655745177,
          1.1385266749141316,
          1.1217815736817325,
          1.0862280857377868,
          1.1167653881669333,
          1.103551766111651,
          1.1211733193524427,
          1.1399933078038442,
          1.1320831247419252,
          1.0803372071808564,
          1.1369416571698585,
          1.1176187740420642,
          1.1117303974573216,
          1.086995796548111,
          1.1120985367124516,
          1.0962079165278444,
          1.1093380713722993,
          1.1126626665166117,
          1.1325979389531138,
          1.0976946420768259,
          1.0674121872262161,
          1.098939541268661,
          1.0808278829678046,
          1.120222253589806,
          1.121052319266462,
          1.1060643417171134,
          1.0753205984742398,
          1.0760478125184008,
          1.0826121809711018,
          1.0937835289987798,
          1.1117237593127998,
          1.1257529725285298,
          1.1147592558564277,
          1.1084418611027336,
          1.075424152831476,
          1.0524895396112488,
          1.0883449858396521,
          1.075558459788475,
          1.1069454955662492,
          1.1115021879161797,
          1.1168764068489834,
          1.130326131654699,
          1.1158268821585404,
          1.1279211656564845,
          1.128209859685122,
          1.1254330307350258,
          1.1125099638955316,
          1.1139202974432587,
          1.0869314172066467,
          1.1053166843848512,
          1.12218937510806,
          1.1267564590984473
         ],
         "yaxis": "y2"
        },
        {
         "mode": "lines",
         "name": "r2c2",
         "type": "scatter",
         "x": [
          "1991-01-05",
          "1991-01-12",
          "1991-01-19",
          "1991-01-26",
          "1991-02-02",
          "1991-02-09",
          "1991-02-16",
          "1991-02-23",
          "1991-03-02",
          "1991-03-09",
          "1991-03-16",
          "1991-03-23",
          "1991-03-30",
          "1991-04-06",
          "1991-04-13",
          "1991-04-20",
          "1991-04-27",
          "1991-05-04",
          "1991-05-11",
          "1991-05-18",
          "1991-05-25",
          "1991-06-01",
          "1991-06-08",
          "1991-06-15",
          "1991-06-22",
          "1991-06-29",
          "1991-07-06",
          "1991-07-13",
          "1991-07-20",
          "1991-07-27",
          "1991-08-03",
          "1991-08-10",
          "1991-08-17",
          "1991-08-24",
          "1991-08-31",
          "1991-09-07",
          "1991-09-14",
          "1991-09-21",
          "1991-09-28",
          "1991-10-05",
          "1991-10-12",
          "1991-10-19",
          "1991-10-26",
          "1991-11-02",
          "1991-11-09",
          "1991-11-16",
          "1991-11-23",
          "1991-11-30",
          "1991-12-07",
          "1991-12-14",
          "1991-12-21",
          "1991-12-28",
          "1992-01-04",
          "1992-01-11",
          "1992-01-18",
          "1992-01-25",
          "1992-02-01",
          "1992-02-08",
          "1992-02-15",
          "1992-02-22",
          "1992-02-29",
          "1992-03-07",
          "1992-03-14",
          "1992-03-21",
          "1992-03-28",
          "1992-04-04",
          "1992-04-11",
          "1992-04-18",
          "1992-04-25",
          "1992-05-02",
          "1992-05-09",
          "1992-05-16",
          "1992-05-23",
          "1992-05-30",
          "1992-06-06",
          "1992-06-13",
          "1992-06-20",
          "1992-06-27",
          "1992-07-04",
          "1992-07-11",
          "1992-07-18",
          "1992-07-25",
          "1992-08-01",
          "1992-08-08",
          "1992-08-15",
          "1992-08-22",
          "1992-08-29",
          "1992-09-05",
          "1992-09-12",
          "1992-09-19",
          "1992-09-26",
          "1992-10-03",
          "1992-10-10",
          "1992-10-17",
          "1992-10-24",
          "1992-10-31",
          "1992-11-07",
          "1992-11-14",
          "1992-11-21",
          "1992-11-28",
          "1992-12-05",
          "1992-12-12",
          "1992-12-19",
          "1992-12-26"
         ],
         "xaxis": "x2",
         "y": [
          1.0357528926612483,
          1.0201643159044498,
          0.9851839003201723,
          1.0207275727841858,
          1.0277812912202084,
          1.0379525422571865,
          1.0331576950638621,
          1.0546164396240545,
          1.059428535700888,
          1.0484514624642014,
          1.0225555316516968,
          1.0319439919382336,
          1.0490690680820995,
          1.0118551134499156,
          1.062253986496193,
          1.0557426942055965,
          1.0727716335266704,
          1.0790745165036104,
          1.066508342616509,
          1.0788602039147266,
          1.0726468610007742,
          1.0728574938392013,
          1.0866027784924106,
          1.08351960659088,
          1.1074401199015902,
          1.088976626184078,
          1.0600910188539054,
          1.1105358819526399,
          1.1220901459479145,
          1.1335958080130857,
          1.139115099330878,
          1.1142024423150103,
          1.1091868376685934,
          1.1439646095846212,
          1.1088331940613592,
          1.1258994371264435,
          1.129759796540883,
          1.138046718490899,
          1.1127370858446555,
          1.0699993955147191,
          1.1328872516259434,
          1.1449023508871656,
          1.1222438418546885,
          1.1393729622074813,
          1.1382978723404256,
          1.105044094617984,
          1.076279603846706,
          1.0600690026834376,
          1.0684639969365362,
          1.103488814591318,
          1.0751856916740756,
          1.1013886120523553,
          1.124547708937206,
          1.1235225592849698,
          1.1196826365578272,
          1.115665541609535,
          1.132749740987102,
          1.1332129846474108,
          1.1349804920254012,
          1.0884031353514152,
          1.066902846968579,
          1.1339853829215243,
          1.1343028352182098,
          1.1260244340858545,
          1.1088258407175569,
          1.132362586080771,
          1.089990689820678,
          1.1341638269742844,
          1.1662391996361983,
          1.1274180425409441,
          1.115216113968807,
          1.1219771077770446,
          1.0917231142634738,
          1.133213812456154,
          1.1129667617636356,
          1.141910783407912,
          1.102247543148799,
          1.0996395383445219,
          1.111120327033592,
          1.105640817156215,
          1.1361468938923962,
          1.1216397765863488,
          1.1302411623818538,
          1.1328176391765137,
          1.1341783997094186,
          1.121117026244513,
          1.0525133712184522,
          0.7689416384617702,
          1.019744241061041,
          1.1159736203807924,
          1.123269611074489,
          1.1247631911310694,
          1.1151895433632486,
          1.0959202308934075,
          1.1273594853949171,
          1.1329704443240547,
          1.0748978923849777,
          1.0353779422684788,
          0.9843039582144383,
          0.9276957350700116,
          1.1086167201358748,
          1.0214433558713951,
          0.9981980729805263,
          1.0431911225210582
         ],
         "yaxis": "y2"
        }
       ],
       "layout": {
        "annotations": [
         {
          "font": {
           "size": 16
          },
          "showarrow": false,
          "text": "Sales(lbs)",
          "x": 0.5,
          "xanchor": "center",
          "xref": "paper",
          "y": 1,
          "yanchor": "bottom",
          "yref": "paper"
         },
         {
          "font": {
           "size": 16
          },
          "showarrow": false,
          "text": "Prices(USD/lb)",
          "x": 0.5,
          "xanchor": "center",
          "xref": "paper",
          "y": 0.375,
          "yanchor": "bottom",
          "yref": "paper"
         }
        ],
        "height": 700,
        "template": {
         "data": {
          "bar": [
           {
            "error_x": {
             "color": "#2a3f5f"
            },
            "error_y": {
             "color": "#2a3f5f"
            },
            "marker": {
             "line": {
              "color": "#E5ECF6",
              "width": 0.5
             },
             "pattern": {
              "fillmode": "overlay",
              "size": 10,
              "solidity": 0.2
             }
            },
            "type": "bar"
           }
          ],
          "barpolar": [
           {
            "marker": {
             "line": {
              "color": "#E5ECF6",
              "width": 0.5
             },
             "pattern": {
              "fillmode": "overlay",
              "size": 10,
              "solidity": 0.2
             }
            },
            "type": "barpolar"
           }
          ],
          "carpet": [
           {
            "aaxis": {
             "endlinecolor": "#2a3f5f",
             "gridcolor": "white",
             "linecolor": "white",
             "minorgridcolor": "white",
             "startlinecolor": "#2a3f5f"
            },
            "baxis": {
             "endlinecolor": "#2a3f5f",
             "gridcolor": "white",
             "linecolor": "white",
             "minorgridcolor": "white",
             "startlinecolor": "#2a3f5f"
            },
            "type": "carpet"
           }
          ],
          "choropleth": [
           {
            "colorbar": {
             "outlinewidth": 0,
             "ticks": ""
            },
            "type": "choropleth"
           }
          ],
          "contour": [
           {
            "colorbar": {
             "outlinewidth": 0,
             "ticks": ""
            },
            "colorscale": [
             [
              0,
              "#0d0887"
             ],
             [
              0.1111111111111111,
              "#46039f"
             ],
             [
              0.2222222222222222,
              "#7201a8"
             ],
             [
              0.3333333333333333,
              "#9c179e"
             ],
             [
              0.4444444444444444,
              "#bd3786"
             ],
             [
              0.5555555555555556,
              "#d8576b"
             ],
             [
              0.6666666666666666,
              "#ed7953"
             ],
             [
              0.7777777777777778,
              "#fb9f3a"
             ],
             [
              0.8888888888888888,
              "#fdca26"
             ],
             [
              1,
              "#f0f921"
             ]
            ],
            "type": "contour"
           }
          ],
          "contourcarpet": [
           {
            "colorbar": {
             "outlinewidth": 0,
             "ticks": ""
            },
            "type": "contourcarpet"
           }
          ],
          "heatmap": [
           {
            "colorbar": {
             "outlinewidth": 0,
             "ticks": ""
            },
            "colorscale": [
             [
              0,
              "#0d0887"
             ],
             [
              0.1111111111111111,
              "#46039f"
             ],
             [
              0.2222222222222222,
              "#7201a8"
             ],
             [
              0.3333333333333333,
              "#9c179e"
             ],
             [
              0.4444444444444444,
              "#bd3786"
             ],
             [
              0.5555555555555556,
              "#d8576b"
             ],
             [
              0.6666666666666666,
              "#ed7953"
             ],
             [
              0.7777777777777778,
              "#fb9f3a"
             ],
             [
              0.8888888888888888,
              "#fdca26"
             ],
             [
              1,
              "#f0f921"
             ]
            ],
            "type": "heatmap"
           }
          ],
          "heatmapgl": [
           {
            "colorbar": {
             "outlinewidth": 0,
             "ticks": ""
            },
            "colorscale": [
             [
              0,
              "#0d0887"
             ],
             [
              0.1111111111111111,
              "#46039f"
             ],
             [
              0.2222222222222222,
              "#7201a8"
             ],
             [
              0.3333333333333333,
              "#9c179e"
             ],
             [
              0.4444444444444444,
              "#bd3786"
             ],
             [
              0.5555555555555556,
              "#d8576b"
             ],
             [
              0.6666666666666666,
              "#ed7953"
             ],
             [
              0.7777777777777778,
              "#fb9f3a"
             ],
             [
              0.8888888888888888,
              "#fdca26"
             ],
             [
              1,
              "#f0f921"
             ]
            ],
            "type": "heatmapgl"
           }
          ],
          "histogram": [
           {
            "marker": {
             "pattern": {
              "fillmode": "overlay",
              "size": 10,
              "solidity": 0.2
             }
            },
            "type": "histogram"
           }
          ],
          "histogram2d": [
           {
            "colorbar": {
             "outlinewidth": 0,
             "ticks": ""
            },
            "colorscale": [
             [
              0,
              "#0d0887"
             ],
             [
              0.1111111111111111,
              "#46039f"
             ],
             [
              0.2222222222222222,
              "#7201a8"
             ],
             [
              0.3333333333333333,
              "#9c179e"
             ],
             [
              0.4444444444444444,
              "#bd3786"
             ],
             [
              0.5555555555555556,
              "#d8576b"
             ],
             [
              0.6666666666666666,
              "#ed7953"
             ],
             [
              0.7777777777777778,
              "#fb9f3a"
             ],
             [
              0.8888888888888888,
              "#fdca26"
             ],
             [
              1,
              "#f0f921"
             ]
            ],
            "type": "histogram2d"
           }
          ],
          "histogram2dcontour": [
           {
            "colorbar": {
             "outlinewidth": 0,
             "ticks": ""
            },
            "colorscale": [
             [
              0,
              "#0d0887"
             ],
             [
              0.1111111111111111,
              "#46039f"
             ],
             [
              0.2222222222222222,
              "#7201a8"
             ],
             [
              0.3333333333333333,
              "#9c179e"
             ],
             [
              0.4444444444444444,
              "#bd3786"
             ],
             [
              0.5555555555555556,
              "#d8576b"
             ],
             [
              0.6666666666666666,
              "#ed7953"
             ],
             [
              0.7777777777777778,
              "#fb9f3a"
             ],
             [
              0.8888888888888888,
              "#fdca26"
             ],
             [
              1,
              "#f0f921"
             ]
            ],
            "type": "histogram2dcontour"
           }
          ],
          "mesh3d": [
           {
            "colorbar": {
             "outlinewidth": 0,
             "ticks": ""
            },
            "type": "mesh3d"
           }
          ],
          "parcoords": [
           {
            "line": {
             "colorbar": {
              "outlinewidth": 0,
              "ticks": ""
             }
            },
            "type": "parcoords"
           }
          ],
          "pie": [
           {
            "automargin": true,
            "type": "pie"
           }
          ],
          "scatter": [
           {
            "fillpattern": {
             "fillmode": "overlay",
             "size": 10,
             "solidity": 0.2
            },
            "type": "scatter"
           }
          ],
          "scatter3d": [
           {
            "line": {
             "colorbar": {
              "outlinewidth": 0,
              "ticks": ""
             }
            },
            "marker": {
             "colorbar": {
              "outlinewidth": 0,
              "ticks": ""
             }
            },
            "type": "scatter3d"
           }
          ],
          "scattercarpet": [
           {
            "marker": {
             "colorbar": {
              "outlinewidth": 0,
              "ticks": ""
             }
            },
            "type": "scattercarpet"
           }
          ],
          "scattergeo": [
           {
            "marker": {
             "colorbar": {
              "outlinewidth": 0,
              "ticks": ""
             }
            },
            "type": "scattergeo"
           }
          ],
          "scattergl": [
           {
            "marker": {
             "colorbar": {
              "outlinewidth": 0,
              "ticks": ""
             }
            },
            "type": "scattergl"
           }
          ],
          "scattermapbox": [
           {
            "marker": {
             "colorbar": {
              "outlinewidth": 0,
              "ticks": ""
             }
            },
            "type": "scattermapbox"
           }
          ],
          "scatterpolar": [
           {
            "marker": {
             "colorbar": {
              "outlinewidth": 0,
              "ticks": ""
             }
            },
            "type": "scatterpolar"
           }
          ],
          "scatterpolargl": [
           {
            "marker": {
             "colorbar": {
              "outlinewidth": 0,
              "ticks": ""
             }
            },
            "type": "scatterpolargl"
           }
          ],
          "scatterternary": [
           {
            "marker": {
             "colorbar": {
              "outlinewidth": 0,
              "ticks": ""
             }
            },
            "type": "scatterternary"
           }
          ],
          "surface": [
           {
            "colorbar": {
             "outlinewidth": 0,
             "ticks": ""
            },
            "colorscale": [
             [
              0,
              "#0d0887"
             ],
             [
              0.1111111111111111,
              "#46039f"
             ],
             [
              0.2222222222222222,
              "#7201a8"
             ],
             [
              0.3333333333333333,
              "#9c179e"
             ],
             [
              0.4444444444444444,
              "#bd3786"
             ],
             [
              0.5555555555555556,
              "#d8576b"
             ],
             [
              0.6666666666666666,
              "#ed7953"
             ],
             [
              0.7777777777777778,
              "#fb9f3a"
             ],
             [
              0.8888888888888888,
              "#fdca26"
             ],
             [
              1,
              "#f0f921"
             ]
            ],
            "type": "surface"
           }
          ],
          "table": [
           {
            "cells": {
             "fill": {
              "color": "#EBF0F8"
             },
             "line": {
              "color": "white"
             }
            },
            "header": {
             "fill": {
              "color": "#C8D4E3"
             },
             "line": {
              "color": "white"
             }
            },
            "type": "table"
           }
          ]
         },
         "layout": {
          "annotationdefaults": {
           "arrowcolor": "#2a3f5f",
           "arrowhead": 0,
           "arrowwidth": 1
          },
          "autotypenumbers": "strict",
          "coloraxis": {
           "colorbar": {
            "outlinewidth": 0,
            "ticks": ""
           }
          },
          "colorscale": {
           "diverging": [
            [
             0,
             "#8e0152"
            ],
            [
             0.1,
             "#c51b7d"
            ],
            [
             0.2,
             "#de77ae"
            ],
            [
             0.3,
             "#f1b6da"
            ],
            [
             0.4,
             "#fde0ef"
            ],
            [
             0.5,
             "#f7f7f7"
            ],
            [
             0.6,
             "#e6f5d0"
            ],
            [
             0.7,
             "#b8e186"
            ],
            [
             0.8,
             "#7fbc41"
            ],
            [
             0.9,
             "#4d9221"
            ],
            [
             1,
             "#276419"
            ]
           ],
           "sequential": [
            [
             0,
             "#0d0887"
            ],
            [
             0.1111111111111111,
             "#46039f"
            ],
            [
             0.2222222222222222,
             "#7201a8"
            ],
            [
             0.3333333333333333,
             "#9c179e"
            ],
            [
             0.4444444444444444,
             "#bd3786"
            ],
            [
             0.5555555555555556,
             "#d8576b"
            ],
            [
             0.6666666666666666,
             "#ed7953"
            ],
            [
             0.7777777777777778,
             "#fb9f3a"
            ],
            [
             0.8888888888888888,
             "#fdca26"
            ],
            [
             1,
             "#f0f921"
            ]
           ],
           "sequentialminus": [
            [
             0,
             "#0d0887"
            ],
            [
             0.1111111111111111,
             "#46039f"
            ],
            [
             0.2222222222222222,
             "#7201a8"
            ],
            [
             0.3333333333333333,
             "#9c179e"
            ],
            [
             0.4444444444444444,
             "#bd3786"
            ],
            [
             0.5555555555555556,
             "#d8576b"
            ],
            [
             0.6666666666666666,
             "#ed7953"
            ],
            [
             0.7777777777777778,
             "#fb9f3a"
            ],
            [
             0.8888888888888888,
             "#fdca26"
            ],
            [
             1,
             "#f0f921"
            ]
           ]
          },
          "colorway": [
           "#636efa",
           "#EF553B",
           "#00cc96",
           "#ab63fa",
           "#FFA15A",
           "#19d3f3",
           "#FF6692",
           "#B6E880",
           "#FF97FF",
           "#FECB52"
          ],
          "font": {
           "color": "#2a3f5f"
          },
          "geo": {
           "bgcolor": "white",
           "lakecolor": "white",
           "landcolor": "#E5ECF6",
           "showlakes": true,
           "showland": true,
           "subunitcolor": "white"
          },
          "hoverlabel": {
           "align": "left"
          },
          "hovermode": "closest",
          "mapbox": {
           "style": "light"
          },
          "paper_bgcolor": "white",
          "plot_bgcolor": "#E5ECF6",
          "polar": {
           "angularaxis": {
            "gridcolor": "white",
            "linecolor": "white",
            "ticks": ""
           },
           "bgcolor": "#E5ECF6",
           "radialaxis": {
            "gridcolor": "white",
            "linecolor": "white",
            "ticks": ""
           }
          },
          "scene": {
           "xaxis": {
            "backgroundcolor": "#E5ECF6",
            "gridcolor": "white",
            "gridwidth": 2,
            "linecolor": "white",
            "showbackground": true,
            "ticks": "",
            "zerolinecolor": "white"
           },
           "yaxis": {
            "backgroundcolor": "#E5ECF6",
            "gridcolor": "white",
            "gridwidth": 2,
            "linecolor": "white",
            "showbackground": true,
            "ticks": "",
            "zerolinecolor": "white"
           },
           "zaxis": {
            "backgroundcolor": "#E5ECF6",
            "gridcolor": "white",
            "gridwidth": 2,
            "linecolor": "white",
            "showbackground": true,
            "ticks": "",
            "zerolinecolor": "white"
           }
          },
          "shapedefaults": {
           "line": {
            "color": "#2a3f5f"
           }
          },
          "ternary": {
           "aaxis": {
            "gridcolor": "white",
            "linecolor": "white",
            "ticks": ""
           },
           "baxis": {
            "gridcolor": "white",
            "linecolor": "white",
            "ticks": ""
           },
           "bgcolor": "#E5ECF6",
           "caxis": {
            "gridcolor": "white",
            "linecolor": "white",
            "ticks": ""
           }
          },
          "title": {
           "x": 0.05
          },
          "xaxis": {
           "automargin": true,
           "gridcolor": "white",
           "linecolor": "white",
           "ticks": "",
           "title": {
            "standoff": 15
           },
           "zerolinecolor": "white",
           "zerolinewidth": 2
          },
          "yaxis": {
           "automargin": true,
           "gridcolor": "white",
           "linecolor": "white",
           "ticks": "",
           "title": {
            "standoff": 15
           },
           "zerolinecolor": "white",
           "zerolinewidth": 2
          }
         }
        },
        "title": {
         "text": "Sales and Prices for Company 2 in both regions"
        },
        "width": 1200,
        "xaxis": {
         "anchor": "y",
         "domain": [
          0,
          1
         ]
        },
        "xaxis2": {
         "anchor": "y2",
         "domain": [
          0,
          1
         ]
        },
        "yaxis": {
         "anchor": "x",
         "domain": [
          0.625,
          1
         ]
        },
        "yaxis2": {
         "anchor": "x2",
         "domain": [
          0,
          0.375
         ]
        }
       }
      }
     },
     "metadata": {},
     "output_type": "display_data"
    }
   ],
   "source": [
    "from plotly.subplots import make_subplots\n",
    "import plotly.graph_objects as go\n",
    "\n",
    "fig = make_subplots(rows=2, cols=1, subplot_titles=(\"Sales(lbs)\",\"Prices(USD/lb)\"))\n",
    "\n",
    "fig.add_trace(\n",
    "    go.Scatter(x=super_df['Date'], y=super_df['r1c2_Sales_U'],mode='lines',\n",
    "                    name='r1c2'),\n",
    "    row=1, col=1\n",
    ")\n",
    "fig.add_trace(\n",
    "    go.Scatter(x=super_df['Date'], y=super_df['r2c2_Sales_U'],mode='lines',\n",
    "                    name='r2c2'),\n",
    "    row=1, col=1\n",
    ")\n",
    "\n",
    "fig.add_trace(\n",
    "    go.Scatter(x=super_df['Date'], y=super_df['r1c2_Prices'], mode='lines',\n",
    "                    name='r1c2'),\n",
    "    row=2, col=1\n",
    ")\n",
    "fig.add_trace(\n",
    "    go.Scatter(x=super_df['Date'], y=super_df['r2c2_Prices'], mode='lines',\n",
    "                    name='r2c2'),\n",
    "    row=2, col=1\n",
    ")\n",
    "\n",
    "fig.update_layout(height=700, width=1200, title_text=\"Sales and Prices for Company 2 in both regions\")\n",
    "fig.show()"
   ]
  },
  {
   "cell_type": "markdown",
   "metadata": {},
   "source": [
    "Again, when assessing total sales in both regions, region 2 presents lower total number of sales, but the difference is not so drastic now. There seems to be some correlation which is "
   ]
  },
  {
   "cell_type": "code",
   "execution_count": 66,
   "metadata": {},
   "outputs": [
    {
     "data": {
      "text/plain": [
       "array([[1.        , 0.52463759],\n",
       "       [0.52463759, 1.        ]])"
      ]
     },
     "execution_count": 66,
     "metadata": {},
     "output_type": "execute_result"
    }
   ],
   "source": [
    "np.corrcoef(super_df['r1c2_Sales_U'].to_list(),super_df['r2c2_Sales_U'].to_list())"
   ]
  },
  {
   "cell_type": "markdown",
   "metadata": {},
   "source": [
    "0.52, which hints moderate to low correlation. It also seems to be that seasonality of both sales is slightly unphased, following similar trends but a week or two later. Prices in both regions are  similar and seemingly more correlated, with the execption of those sharp valleys in the end\n",
    "\n"
   ]
  },
  {
   "cell_type": "code",
   "execution_count": 68,
   "metadata": {},
   "outputs": [
    {
     "data": {
      "text/plain": [
       "array([[1.       , 0.3868128],\n",
       "       [0.3868128, 1.       ]])"
      ]
     },
     "execution_count": 68,
     "metadata": {},
     "output_type": "execute_result"
    }
   ],
   "source": [
    "np.corrcoef(super_df['r1c2_Prices'].to_list(),super_df['r2c2_Prices'].to_list())"
   ]
  },
  {
   "cell_type": "markdown",
   "metadata": {},
   "source": [
    "Corr. coef. of 0.38 is a low value certainly, although that latest trend in the data by the end of 1992 might have biased our results. Taking away the last 17 weeks of the year yields"
   ]
  },
  {
   "cell_type": "code",
   "execution_count": 69,
   "metadata": {},
   "outputs": [
    {
     "data": {
      "text/plain": [
       "array([[1.        , 0.65653377],\n",
       "       [0.65653377, 1.        ]])"
      ]
     },
     "execution_count": 69,
     "metadata": {},
     "output_type": "execute_result"
    }
   ],
   "source": [
    "np.corrcoef(super_df['r1c2_Prices'].to_list()[:87],super_df['r2c2_Prices'].to_list()[:87])"
   ]
  },
  {
   "cell_type": "markdown",
   "metadata": {},
   "source": [
    "yields 0.65, which is not too high but provides some clarity. Considering the relationship between sales and prices, it is worth to notice the elasticity of the demand, with sudden increases in sales when the price drops, as it was seen in company 1"
   ]
  },
  {
   "cell_type": "markdown",
   "metadata": {},
   "source": [
    "***Construct scatter-plots of sales versus prices for Company 1 in Region 1 and\n",
    "Region 2 separately. Repeat the exercise for Company 2. Is there evidence for\n",
    "a negatively sloped demand-curve in the data? Eye-balling these plots, does\n",
    "demand appear more elastic in Region 1 or 2?***"
   ]
  },
  {
   "cell_type": "code",
   "execution_count": 82,
   "metadata": {},
   "outputs": [],
   "source": [
    "super_df = super_df.fillna(0)\n"
   ]
  },
  {
   "cell_type": "code",
   "execution_count": 81,
   "metadata": {},
   "outputs": [
    {
     "data": {
      "text/plain": [
       "0      0.000000\n",
       "1      0.000000\n",
       "2      0.000000\n",
       "3      0.000000\n",
       "4      0.000000\n",
       "         ...   \n",
       "99     0.845022\n",
       "100    1.175763\n",
       "101    1.174027\n",
       "102    0.745020\n",
       "103    0.942142\n",
       "Name: r2c1_Prices, Length: 104, dtype: float64"
      ]
     },
     "execution_count": 81,
     "metadata": {},
     "output_type": "execute_result"
    }
   ],
   "source": [
    "super_df['r2c1_Prices'].fillna(0)"
   ]
  },
  {
   "cell_type": "code",
   "execution_count": 95,
   "metadata": {},
   "outputs": [
    {
     "data": {
      "application/vnd.plotly.v1+json": {
       "config": {
        "plotlyServerURL": "https://plot.ly"
       },
       "data": [
        {
         "mode": "markers",
         "name": "r1c1",
         "type": "scatter",
         "x": [
          124885,
          105285,
          138363,
          111494,
          110686,
          117199,
          118615,
          118847,
          127952,
          127798,
          148744,
          131981,
          182559,
          167607,
          139220,
          135372,
          136894,
          149846,
          163378,
          146728,
          157598,
          134317,
          124384,
          125264,
          106087,
          133226,
          172272,
          116089,
          107093,
          105153,
          115674,
          115628,
          132864,
          117772,
          159161,
          137864,
          128183,
          104327,
          117468,
          132344,
          122698,
          123145,
          120775,
          124522,
          129720,
          121330,
          174175,
          179993,
          135794,
          147156,
          250819,
          195663,
          152833,
          146791,
          163850,
          151696,
          133198,
          122976,
          122514,
          121964,
          163999,
          148046,
          139178,
          131292,
          147612,
          158572,
          172929,
          214812,
          164925,
          180673,
          194018,
          174295,
          206829,
          153948,
          189631,
          165597,
          178684,
          181434,
          253185,
          196780,
          164418,
          160778,
          163251,
          164180,
          162433,
          160605,
          191456,
          398276,
          206288,
          126158,
          106190,
          114016,
          118891,
          122654,
          113796,
          116289,
          140538,
          169682,
          264589,
          292666,
          132475,
          181175,
          201451,
          263318
         ],
         "xaxis": "x",
         "y": [
          1.0357528926612483,
          1.0201643159044498,
          0.9851839003201723,
          1.0207275727841858,
          1.0277812912202084,
          1.0379525422571865,
          1.0331576950638621,
          1.0546164396240545,
          1.059428535700888,
          1.0484514624642014,
          1.0225555316516968,
          1.0319439919382336,
          1.0490690680820995,
          1.0118551134499156,
          1.062253986496193,
          1.0557426942055965,
          1.0727716335266704,
          1.0790745165036104,
          1.066508342616509,
          1.0788602039147266,
          1.0726468610007742,
          1.0728574938392013,
          1.0866027784924106,
          1.08351960659088,
          1.1074401199015902,
          1.088976626184078,
          1.0600910188539054,
          1.1105358819526399,
          1.1220901459479145,
          1.1335958080130857,
          1.139115099330878,
          1.1142024423150103,
          1.1091868376685934,
          1.1439646095846212,
          1.1088331940613592,
          1.1258994371264435,
          1.129759796540883,
          1.138046718490899,
          1.1127370858446555,
          1.0699993955147191,
          1.1328872516259434,
          1.1449023508871656,
          1.1222438418546885,
          1.1393729622074813,
          1.1382978723404256,
          1.105044094617984,
          1.076279603846706,
          1.0600690026834376,
          1.0684639969365362,
          1.103488814591318,
          1.0751856916740756,
          1.1013886120523553,
          1.124547708937206,
          1.1235225592849698,
          1.1196826365578272,
          1.115665541609535,
          1.132749740987102,
          1.1332129846474108,
          1.1349804920254012,
          1.0884031353514152,
          1.066902846968579,
          1.1339853829215243,
          1.1343028352182098,
          1.1260244340858545,
          1.1088258407175569,
          1.132362586080771,
          1.089990689820678,
          1.1341638269742844,
          1.1662391996361983,
          1.1274180425409441,
          1.115216113968807,
          1.1219771077770446,
          1.0917231142634738,
          1.133213812456154,
          1.1129667617636356,
          1.141910783407912,
          1.102247543148799,
          1.0996395383445219,
          1.111120327033592,
          1.105640817156215,
          1.1361468938923962,
          1.1216397765863488,
          1.1302411623818538,
          1.1328176391765137,
          1.1341783997094186,
          1.121117026244513,
          1.0525133712184522,
          0.7689416384617702,
          1.019744241061041,
          1.1159736203807924,
          1.123269611074489,
          1.1247631911310694,
          1.1151895433632486,
          1.0959202308934075,
          1.1273594853949171,
          1.1329704443240547,
          1.0748978923849777,
          1.0353779422684788,
          0.9843039582144383,
          0.9276957350700116,
          1.1086167201358748,
          1.0214433558713951,
          0.9981980729805263,
          1.0431911225210582
         ],
         "yaxis": "y"
        },
        {
         "mode": "lines",
         "name": "r1c1",
         "type": "scatter",
         "x": [
          124885,
          105285,
          138363,
          111494,
          110686,
          117199,
          118615,
          118847,
          127952,
          127798,
          148744,
          131981,
          182559,
          167607,
          139220,
          135372,
          136894,
          149846,
          163378,
          146728,
          157598,
          134317,
          124384,
          125264,
          106087,
          133226,
          172272,
          116089,
          107093,
          105153,
          115674,
          115628,
          132864,
          117772,
          159161,
          137864,
          128183,
          104327,
          117468,
          132344,
          122698,
          123145,
          120775,
          124522,
          129720,
          121330,
          174175,
          179993,
          135794,
          147156,
          250819,
          195663,
          152833,
          146791,
          163850,
          151696,
          133198,
          122976,
          122514,
          121964,
          163999,
          148046,
          139178,
          131292,
          147612,
          158572,
          172929,
          214812,
          164925,
          180673,
          194018,
          174295,
          206829,
          153948,
          189631,
          165597,
          178684,
          181434,
          253185,
          196780,
          164418,
          160778,
          163251,
          164180,
          162433,
          160605,
          191456,
          398276,
          206288,
          126158,
          106190,
          114016,
          118891,
          122654,
          113796,
          116289,
          140538,
          169682,
          264589,
          292666,
          132475,
          181175,
          201451,
          263318
         ],
         "xaxis": "x",
         "y": [
          1.1073715362498602,
          1.120252584953473,
          1.098513843677039,
          1.11617205273915,
          1.116703067399993,
          1.1124227474914912,
          1.1114921574422914,
          1.1113396878862078,
          1.1053559150062897,
          1.1054571232461037,
          1.091691488238661,
          1.1027080708620622,
          1.0694683932431164,
          1.0792947932541583,
          1.097950626394437,
          1.1004795179970648,
          1.0994792651334475,
          1.090967257847264,
          1.0820740766708716,
          1.0930163961053183,
          1.0858726716457126,
          1.1011728601594275,
          1.1077007916274373,
          1.1071224588284994,
          1.1197255134708048,
          1.1018898613908379,
          1.076228972223426,
          1.1131522354537877,
          1.119064373930201,
          1.1203393348733137,
          1.1134249719441958,
          1.1134552029768676,
          1.1021277664740372,
          1.1120461739758192,
          1.0848454737312356,
          1.0988417846618912,
          1.1052041026465684,
          1.1208821790686803,
          1.1122459616699978,
          1.1024695085825005,
          1.108808824694493,
          1.108515057920487,
          1.1100726132994443,
          1.107610098529422,
          1.1041939918375148,
          1.109707869318296,
          1.0749783275457232,
          1.07115475910911,
          1.1002021811321196,
          1.0927351160621988,
          1.024608169543697,
          1.0608564921098438,
          1.089004212312688,
          1.0929749927344854,
          1.081763879987805,
          1.08975144457677,
          1.1019082628889858,
          1.1086261241057376,
          1.10892974882518,
          1.109291206824516,
          1.0816659577298031,
          1.0921502112996366,
          1.097978228641659,
          1.103160879155776,
          1.0924354345209308,
          1.0852325623887065,
          1.07579719421331,
          1.0482718389656864,
          1.0810573938981936,
          1.070707865582658,
          1.06193758012604,
          1.0748994639822316,
          1.053518237526959,
          1.0882714383685792,
          1.064820700568017,
          1.0806157579426412,
          1.0720150291475297,
          1.0702077391508493,
          1.0230532429501893,
          1.0601224037730104,
          1.0813905924539453,
          1.0837827872131875,
          1.0821575406089001,
          1.0815470051882035,
          1.0826951272333671,
          1.083896482183888,
          1.0636213172065836,
          0.9276999655289694,
          1.0538737807590333,
          1.1065349252804877,
          1.1196578222454747,
          1.1145146035131035,
          1.1113107712462609,
          1.1088377413344397,
          1.114659186712838,
          1.113020796181302,
          1.0970844415887553,
          1.0779311108021177,
          1.0155585756330465,
          0.9971064733651208,
          1.1023834158590222,
          1.0703779530087185,
          1.0570526395641033,
          1.016393872209694
         ],
         "yaxis": "y"
        },
        {
         "mode": "markers",
         "name": "r2c1",
         "type": "scatter",
         "x": [
          5342,
          13864,
          10071,
          9729,
          8064,
          5778,
          6664,
          4859,
          11577,
          15774,
          9444,
          8213,
          6388,
          6348,
          6188,
          19104,
          11573,
          5553,
          5383,
          5860,
          7246,
          18576,
          9441,
          6061,
          5882,
          6118,
          8781,
          7403,
          4347,
          14731,
          16365,
          5007,
          5262,
          20158,
          13189,
          10130,
          7547,
          5922,
          10882,
          7989,
          4968,
          4199,
          5937,
          16500,
          11439,
          8214,
          7284,
          4485,
          5064,
          13411,
          11052,
          6226,
          6990,
          7785,
          7170,
          12438,
          6684,
          6028,
          7885,
          6822,
          20857,
          25596,
          7676,
          4490,
          6181,
          7354,
          7169,
          6679,
          6076,
          6065,
          137463,
          44240,
          6421,
          5864,
          4190,
          4155,
          6269,
          7341,
          6794,
          5377,
          4978,
          24591,
          26307,
          5405,
          4574,
          22139,
          24197
         ],
         "xaxis": "x2",
         "y": [
          1.0885436166229876,
          0.9948066935949221,
          1.0693079138119352,
          1.0222016651248844,
          1.1044146825396826,
          1.111803392177224,
          1.1210984393757504,
          1.1055772792755711,
          1.0708300941521984,
          1.0700519842779257,
          1.1484540448962304,
          1.1652258614391817,
          1.1804946775203506,
          1.1707624448645242,
          1.1801874595992243,
          0.9844535175879398,
          1.2142054782683833,
          1.1478480100846389,
          1.1855842467025821,
          1.2005119453924915,
          1.1182721501518078,
          0.9862187769164513,
          1.2126893337570173,
          1.178023428477149,
          1.1734104046242775,
          1.1332134684537432,
          1.1325589340621798,
          1.120896933675537,
          1.1688520818955601,
          0.9211187292105084,
          0.94946532233425,
          1.1601757539444777,
          1.1674268339034588,
          0.934616529417601,
          1.0028053681097884,
          0.9827245804540967,
          1.1050748641844441,
          1.154002026342452,
          1.0895975004594745,
          1.1270496933283265,
          1.143719806763285,
          1.177185044058109,
          1.1948795688057943,
          0.9710909090909091,
          1.118366990121514,
          1.0763330898466033,
          1.1261669412410764,
          1.1634336677814938,
          1.1567930489731437,
          0.9643576168816643,
          1.0669562070213536,
          1.147124959845808,
          1.1630901287553648,
          1.165446371226718,
          1.1623430962343095,
          1.0766200353754622,
          1.1149012567324954,
          1.1650630391506305,
          1.0974001268230817,
          1.129287598944591,
          0.9869588147864027,
          0.9874199093608377,
          1.1280614903595623,
          1.1478841870824052,
          1.1661543439572886,
          1.1244220832200162,
          1.1134049379271864,
          1.1706842341667913,
          1.1785714285714286,
          1.1272877164056059,
          0.4949986541833075,
          0.8204566003616637,
          1.124591185173649,
          1.1301159618008185,
          1.179474940334129,
          1.1610108303249098,
          1.1413303557186154,
          1.1401716387413159,
          1.1427730350309095,
          1.1763064906081457,
          1.1904379268782643,
          1.0309056158757268,
          0.8450222374273008,
          1.1757631822386678,
          1.1740271097507653,
          0.7450201002755319,
          0.9421415878001406
         ],
         "yaxis": "y2"
        },
        {
         "mode": "lines",
         "name": "r2c1",
         "type": "scatter",
         "x": [
          5342,
          13864,
          10071,
          9729,
          8064,
          5778,
          6664,
          4859,
          11577,
          15774,
          9444,
          8213,
          6388,
          6348,
          6188,
          19104,
          11573,
          5553,
          5383,
          5860,
          7246,
          18576,
          9441,
          6061,
          5882,
          6118,
          8781,
          7403,
          4347,
          14731,
          16365,
          5007,
          5262,
          20158,
          13189,
          10130,
          7547,
          5922,
          10882,
          7989,
          4968,
          4199,
          5937,
          16500,
          11439,
          8214,
          7284,
          4485,
          5064,
          13411,
          11052,
          6226,
          6990,
          7785,
          7170,
          12438,
          6684,
          6028,
          7885,
          6822,
          20857,
          25596,
          7676,
          4490,
          6181,
          7354,
          7169,
          6679,
          6076,
          6065,
          137463,
          44240,
          6421,
          5864,
          4190,
          4155,
          6269,
          7341,
          6794,
          5377,
          4978,
          24591,
          26307,
          5405,
          4574,
          22139,
          24197
         ],
         "xaxis": "x2",
         "y": [
          1.12999865499553,
          1.0784781689947123,
          1.101409077631312,
          1.1034766681279418,
          1.1135425692299554,
          1.1273627793916394,
          1.1220063899763935,
          1.1329186731530512,
          1.0923044247426434,
          1.0669310992620717,
          1.1051996602084666,
          1.1126417768790846,
          1.1236749717806913,
          1.1239167952305895,
          1.1248840890301826,
          1.0467992970580442,
          1.0923286070876332,
          1.1287230362973169,
          1.1297507859593843,
          1.126867041319348,
          1.1184878587803744,
          1.049991366596701,
          1.105217796967209,
          1.1256518784836094,
          1.126734038421904,
          1.1253072800675044,
          1.1092078838905297,
          1.1175387017395237,
          1.1360140133117484,
          1.0732366457181681,
          1.0633581577898255,
          1.1320239263884277,
          1.1304823018953265,
          1.0404272491532258,
          1.082558939711745,
          1.1010523880427119,
          1.1166681373198901,
          1.1264922149720058,
          1.0965061071846252,
          1.1139959881985146,
          1.1322597042520786,
          1.1369087600763719,
          1.1264015311782938,
          1.0625420036464188,
          1.0931387156447925,
          1.1126357312928372,
          1.118258126502971,
          1.1351797224095996,
          1.1316793279723227,
          1.0812168195648098,
          1.0954783575225577,
          1.1246543567527791,
          1.120035528859723,
          1.1152292877929957,
          1.118947323335181,
          1.087099174983584,
          1.1218854782514445,
          1.1258513828297754,
          1.11462472916825,
          1.1210511873492957,
          1.0362013843662543,
          1.0075513511395615,
          1.1158882566939683,
          1.1351494944783622,
          1.1249264081339148,
          1.1178349354656492,
          1.1189533689214284,
          1.1219157061826817,
          1.1255611946898976,
          1.1256276961386196,
          0.3312497543954308,
          0.8948374411419968,
          1.1234754674345253,
          1.1268428589743582,
          1.136963170352599,
          1.13717476587126,
          1.1243943965441385,
          1.117913528086866,
          1.1212204637642242,
          1.129787059476869,
          1.132199248389604,
          1.0136271653182547,
          1.0032529393176206,
          1.1296177830619403,
          1.134641665233576,
          1.028450942797016,
          1.0160091262997522
         ],
         "yaxis": "y2"
        }
       ],
       "layout": {
        "annotations": [
         {
          "font": {
           "size": 16
          },
          "showarrow": false,
          "text": "Sales(lbs)",
          "x": 0.5,
          "xanchor": "center",
          "xref": "paper",
          "y": 1,
          "yanchor": "bottom",
          "yref": "paper"
         },
         {
          "font": {
           "size": 16
          },
          "showarrow": false,
          "text": "Prices(USD/lb)",
          "x": 0.5,
          "xanchor": "center",
          "xref": "paper",
          "y": 0.375,
          "yanchor": "bottom",
          "yref": "paper"
         }
        ],
        "height": 700,
        "template": {
         "data": {
          "bar": [
           {
            "error_x": {
             "color": "#2a3f5f"
            },
            "error_y": {
             "color": "#2a3f5f"
            },
            "marker": {
             "line": {
              "color": "#E5ECF6",
              "width": 0.5
             },
             "pattern": {
              "fillmode": "overlay",
              "size": 10,
              "solidity": 0.2
             }
            },
            "type": "bar"
           }
          ],
          "barpolar": [
           {
            "marker": {
             "line": {
              "color": "#E5ECF6",
              "width": 0.5
             },
             "pattern": {
              "fillmode": "overlay",
              "size": 10,
              "solidity": 0.2
             }
            },
            "type": "barpolar"
           }
          ],
          "carpet": [
           {
            "aaxis": {
             "endlinecolor": "#2a3f5f",
             "gridcolor": "white",
             "linecolor": "white",
             "minorgridcolor": "white",
             "startlinecolor": "#2a3f5f"
            },
            "baxis": {
             "endlinecolor": "#2a3f5f",
             "gridcolor": "white",
             "linecolor": "white",
             "minorgridcolor": "white",
             "startlinecolor": "#2a3f5f"
            },
            "type": "carpet"
           }
          ],
          "choropleth": [
           {
            "colorbar": {
             "outlinewidth": 0,
             "ticks": ""
            },
            "type": "choropleth"
           }
          ],
          "contour": [
           {
            "colorbar": {
             "outlinewidth": 0,
             "ticks": ""
            },
            "colorscale": [
             [
              0,
              "#0d0887"
             ],
             [
              0.1111111111111111,
              "#46039f"
             ],
             [
              0.2222222222222222,
              "#7201a8"
             ],
             [
              0.3333333333333333,
              "#9c179e"
             ],
             [
              0.4444444444444444,
              "#bd3786"
             ],
             [
              0.5555555555555556,
              "#d8576b"
             ],
             [
              0.6666666666666666,
              "#ed7953"
             ],
             [
              0.7777777777777778,
              "#fb9f3a"
             ],
             [
              0.8888888888888888,
              "#fdca26"
             ],
             [
              1,
              "#f0f921"
             ]
            ],
            "type": "contour"
           }
          ],
          "contourcarpet": [
           {
            "colorbar": {
             "outlinewidth": 0,
             "ticks": ""
            },
            "type": "contourcarpet"
           }
          ],
          "heatmap": [
           {
            "colorbar": {
             "outlinewidth": 0,
             "ticks": ""
            },
            "colorscale": [
             [
              0,
              "#0d0887"
             ],
             [
              0.1111111111111111,
              "#46039f"
             ],
             [
              0.2222222222222222,
              "#7201a8"
             ],
             [
              0.3333333333333333,
              "#9c179e"
             ],
             [
              0.4444444444444444,
              "#bd3786"
             ],
             [
              0.5555555555555556,
              "#d8576b"
             ],
             [
              0.6666666666666666,
              "#ed7953"
             ],
             [
              0.7777777777777778,
              "#fb9f3a"
             ],
             [
              0.8888888888888888,
              "#fdca26"
             ],
             [
              1,
              "#f0f921"
             ]
            ],
            "type": "heatmap"
           }
          ],
          "heatmapgl": [
           {
            "colorbar": {
             "outlinewidth": 0,
             "ticks": ""
            },
            "colorscale": [
             [
              0,
              "#0d0887"
             ],
             [
              0.1111111111111111,
              "#46039f"
             ],
             [
              0.2222222222222222,
              "#7201a8"
             ],
             [
              0.3333333333333333,
              "#9c179e"
             ],
             [
              0.4444444444444444,
              "#bd3786"
             ],
             [
              0.5555555555555556,
              "#d8576b"
             ],
             [
              0.6666666666666666,
              "#ed7953"
             ],
             [
              0.7777777777777778,
              "#fb9f3a"
             ],
             [
              0.8888888888888888,
              "#fdca26"
             ],
             [
              1,
              "#f0f921"
             ]
            ],
            "type": "heatmapgl"
           }
          ],
          "histogram": [
           {
            "marker": {
             "pattern": {
              "fillmode": "overlay",
              "size": 10,
              "solidity": 0.2
             }
            },
            "type": "histogram"
           }
          ],
          "histogram2d": [
           {
            "colorbar": {
             "outlinewidth": 0,
             "ticks": ""
            },
            "colorscale": [
             [
              0,
              "#0d0887"
             ],
             [
              0.1111111111111111,
              "#46039f"
             ],
             [
              0.2222222222222222,
              "#7201a8"
             ],
             [
              0.3333333333333333,
              "#9c179e"
             ],
             [
              0.4444444444444444,
              "#bd3786"
             ],
             [
              0.5555555555555556,
              "#d8576b"
             ],
             [
              0.6666666666666666,
              "#ed7953"
             ],
             [
              0.7777777777777778,
              "#fb9f3a"
             ],
             [
              0.8888888888888888,
              "#fdca26"
             ],
             [
              1,
              "#f0f921"
             ]
            ],
            "type": "histogram2d"
           }
          ],
          "histogram2dcontour": [
           {
            "colorbar": {
             "outlinewidth": 0,
             "ticks": ""
            },
            "colorscale": [
             [
              0,
              "#0d0887"
             ],
             [
              0.1111111111111111,
              "#46039f"
             ],
             [
              0.2222222222222222,
              "#7201a8"
             ],
             [
              0.3333333333333333,
              "#9c179e"
             ],
             [
              0.4444444444444444,
              "#bd3786"
             ],
             [
              0.5555555555555556,
              "#d8576b"
             ],
             [
              0.6666666666666666,
              "#ed7953"
             ],
             [
              0.7777777777777778,
              "#fb9f3a"
             ],
             [
              0.8888888888888888,
              "#fdca26"
             ],
             [
              1,
              "#f0f921"
             ]
            ],
            "type": "histogram2dcontour"
           }
          ],
          "mesh3d": [
           {
            "colorbar": {
             "outlinewidth": 0,
             "ticks": ""
            },
            "type": "mesh3d"
           }
          ],
          "parcoords": [
           {
            "line": {
             "colorbar": {
              "outlinewidth": 0,
              "ticks": ""
             }
            },
            "type": "parcoords"
           }
          ],
          "pie": [
           {
            "automargin": true,
            "type": "pie"
           }
          ],
          "scatter": [
           {
            "fillpattern": {
             "fillmode": "overlay",
             "size": 10,
             "solidity": 0.2
            },
            "type": "scatter"
           }
          ],
          "scatter3d": [
           {
            "line": {
             "colorbar": {
              "outlinewidth": 0,
              "ticks": ""
             }
            },
            "marker": {
             "colorbar": {
              "outlinewidth": 0,
              "ticks": ""
             }
            },
            "type": "scatter3d"
           }
          ],
          "scattercarpet": [
           {
            "marker": {
             "colorbar": {
              "outlinewidth": 0,
              "ticks": ""
             }
            },
            "type": "scattercarpet"
           }
          ],
          "scattergeo": [
           {
            "marker": {
             "colorbar": {
              "outlinewidth": 0,
              "ticks": ""
             }
            },
            "type": "scattergeo"
           }
          ],
          "scattergl": [
           {
            "marker": {
             "colorbar": {
              "outlinewidth": 0,
              "ticks": ""
             }
            },
            "type": "scattergl"
           }
          ],
          "scattermapbox": [
           {
            "marker": {
             "colorbar": {
              "outlinewidth": 0,
              "ticks": ""
             }
            },
            "type": "scattermapbox"
           }
          ],
          "scatterpolar": [
           {
            "marker": {
             "colorbar": {
              "outlinewidth": 0,
              "ticks": ""
             }
            },
            "type": "scatterpolar"
           }
          ],
          "scatterpolargl": [
           {
            "marker": {
             "colorbar": {
              "outlinewidth": 0,
              "ticks": ""
             }
            },
            "type": "scatterpolargl"
           }
          ],
          "scatterternary": [
           {
            "marker": {
             "colorbar": {
              "outlinewidth": 0,
              "ticks": ""
             }
            },
            "type": "scatterternary"
           }
          ],
          "surface": [
           {
            "colorbar": {
             "outlinewidth": 0,
             "ticks": ""
            },
            "colorscale": [
             [
              0,
              "#0d0887"
             ],
             [
              0.1111111111111111,
              "#46039f"
             ],
             [
              0.2222222222222222,
              "#7201a8"
             ],
             [
              0.3333333333333333,
              "#9c179e"
             ],
             [
              0.4444444444444444,
              "#bd3786"
             ],
             [
              0.5555555555555556,
              "#d8576b"
             ],
             [
              0.6666666666666666,
              "#ed7953"
             ],
             [
              0.7777777777777778,
              "#fb9f3a"
             ],
             [
              0.8888888888888888,
              "#fdca26"
             ],
             [
              1,
              "#f0f921"
             ]
            ],
            "type": "surface"
           }
          ],
          "table": [
           {
            "cells": {
             "fill": {
              "color": "#EBF0F8"
             },
             "line": {
              "color": "white"
             }
            },
            "header": {
             "fill": {
              "color": "#C8D4E3"
             },
             "line": {
              "color": "white"
             }
            },
            "type": "table"
           }
          ]
         },
         "layout": {
          "annotationdefaults": {
           "arrowcolor": "#2a3f5f",
           "arrowhead": 0,
           "arrowwidth": 1
          },
          "autotypenumbers": "strict",
          "coloraxis": {
           "colorbar": {
            "outlinewidth": 0,
            "ticks": ""
           }
          },
          "colorscale": {
           "diverging": [
            [
             0,
             "#8e0152"
            ],
            [
             0.1,
             "#c51b7d"
            ],
            [
             0.2,
             "#de77ae"
            ],
            [
             0.3,
             "#f1b6da"
            ],
            [
             0.4,
             "#fde0ef"
            ],
            [
             0.5,
             "#f7f7f7"
            ],
            [
             0.6,
             "#e6f5d0"
            ],
            [
             0.7,
             "#b8e186"
            ],
            [
             0.8,
             "#7fbc41"
            ],
            [
             0.9,
             "#4d9221"
            ],
            [
             1,
             "#276419"
            ]
           ],
           "sequential": [
            [
             0,
             "#0d0887"
            ],
            [
             0.1111111111111111,
             "#46039f"
            ],
            [
             0.2222222222222222,
             "#7201a8"
            ],
            [
             0.3333333333333333,
             "#9c179e"
            ],
            [
             0.4444444444444444,
             "#bd3786"
            ],
            [
             0.5555555555555556,
             "#d8576b"
            ],
            [
             0.6666666666666666,
             "#ed7953"
            ],
            [
             0.7777777777777778,
             "#fb9f3a"
            ],
            [
             0.8888888888888888,
             "#fdca26"
            ],
            [
             1,
             "#f0f921"
            ]
           ],
           "sequentialminus": [
            [
             0,
             "#0d0887"
            ],
            [
             0.1111111111111111,
             "#46039f"
            ],
            [
             0.2222222222222222,
             "#7201a8"
            ],
            [
             0.3333333333333333,
             "#9c179e"
            ],
            [
             0.4444444444444444,
             "#bd3786"
            ],
            [
             0.5555555555555556,
             "#d8576b"
            ],
            [
             0.6666666666666666,
             "#ed7953"
            ],
            [
             0.7777777777777778,
             "#fb9f3a"
            ],
            [
             0.8888888888888888,
             "#fdca26"
            ],
            [
             1,
             "#f0f921"
            ]
           ]
          },
          "colorway": [
           "#636efa",
           "#EF553B",
           "#00cc96",
           "#ab63fa",
           "#FFA15A",
           "#19d3f3",
           "#FF6692",
           "#B6E880",
           "#FF97FF",
           "#FECB52"
          ],
          "font": {
           "color": "#2a3f5f"
          },
          "geo": {
           "bgcolor": "white",
           "lakecolor": "white",
           "landcolor": "#E5ECF6",
           "showlakes": true,
           "showland": true,
           "subunitcolor": "white"
          },
          "hoverlabel": {
           "align": "left"
          },
          "hovermode": "closest",
          "mapbox": {
           "style": "light"
          },
          "paper_bgcolor": "white",
          "plot_bgcolor": "#E5ECF6",
          "polar": {
           "angularaxis": {
            "gridcolor": "white",
            "linecolor": "white",
            "ticks": ""
           },
           "bgcolor": "#E5ECF6",
           "radialaxis": {
            "gridcolor": "white",
            "linecolor": "white",
            "ticks": ""
           }
          },
          "scene": {
           "xaxis": {
            "backgroundcolor": "#E5ECF6",
            "gridcolor": "white",
            "gridwidth": 2,
            "linecolor": "white",
            "showbackground": true,
            "ticks": "",
            "zerolinecolor": "white"
           },
           "yaxis": {
            "backgroundcolor": "#E5ECF6",
            "gridcolor": "white",
            "gridwidth": 2,
            "linecolor": "white",
            "showbackground": true,
            "ticks": "",
            "zerolinecolor": "white"
           },
           "zaxis": {
            "backgroundcolor": "#E5ECF6",
            "gridcolor": "white",
            "gridwidth": 2,
            "linecolor": "white",
            "showbackground": true,
            "ticks": "",
            "zerolinecolor": "white"
           }
          },
          "shapedefaults": {
           "line": {
            "color": "#2a3f5f"
           }
          },
          "ternary": {
           "aaxis": {
            "gridcolor": "white",
            "linecolor": "white",
            "ticks": ""
           },
           "baxis": {
            "gridcolor": "white",
            "linecolor": "white",
            "ticks": ""
           },
           "bgcolor": "#E5ECF6",
           "caxis": {
            "gridcolor": "white",
            "linecolor": "white",
            "ticks": ""
           }
          },
          "title": {
           "x": 0.05
          },
          "xaxis": {
           "automargin": true,
           "gridcolor": "white",
           "linecolor": "white",
           "ticks": "",
           "title": {
            "standoff": 15
           },
           "zerolinecolor": "white",
           "zerolinewidth": 2
          },
          "yaxis": {
           "automargin": true,
           "gridcolor": "white",
           "linecolor": "white",
           "ticks": "",
           "title": {
            "standoff": 15
           },
           "zerolinecolor": "white",
           "zerolinewidth": 2
          }
         }
        },
        "title": {
         "text": "Sales and Prices for Company 1 in both regions"
        },
        "width": 1200,
        "xaxis": {
         "anchor": "y",
         "domain": [
          0,
          1
         ]
        },
        "xaxis2": {
         "anchor": "y2",
         "domain": [
          0,
          1
         ]
        },
        "yaxis": {
         "anchor": "x",
         "domain": [
          0.625,
          1
         ]
        },
        "yaxis2": {
         "anchor": "x2",
         "domain": [
          0,
          0.375
         ]
        }
       }
      }
     },
     "metadata": {},
     "output_type": "display_data"
    },
    {
     "name": "stdout",
     "output_type": "stream",
     "text": [
      "[1.12999865499553, 1.0784781689947123, 1.101409077631312, 1.1034766681279418, 1.1135425692299554, 1.1273627793916394, 1.1220063899763935, 1.1329186731530512, 1.0923044247426434, 1.0669310992620717, 1.1051996602084666, 1.1126417768790846, 1.1236749717806913, 1.1239167952305895, 1.1248840890301826, 1.0467992970580442, 1.0923286070876332, 1.1287230362973169, 1.1297507859593843, 1.126867041319348, 1.1184878587803744, 1.049991366596701, 1.105217796967209, 1.1256518784836094, 1.126734038421904, 1.1253072800675044, 1.1092078838905297, 1.1175387017395237, 1.1360140133117484, 1.0732366457181681, 1.0633581577898255, 1.1320239263884277, 1.1304823018953265, 1.0404272491532258, 1.082558939711745, 1.1010523880427119, 1.1166681373198901, 1.1264922149720058, 1.0965061071846252, 1.1139959881985146, 1.1322597042520786, 1.1369087600763719, 1.1264015311782938, 1.0625420036464188, 1.0931387156447925, 1.1126357312928372, 1.118258126502971, 1.1351797224095996, 1.1316793279723227, 1.0812168195648098, 1.0954783575225577, 1.1246543567527791, 1.120035528859723, 1.1152292877929957, 1.118947323335181, 1.087099174983584, 1.1218854782514445, 1.1258513828297754, 1.11462472916825, 1.1210511873492957, 1.0362013843662543, 1.0075513511395615, 1.1158882566939683, 1.1351494944783622, 1.1249264081339148, 1.1178349354656492, 1.1189533689214284, 1.1219157061826817, 1.1255611946898976, 1.1256276961386196, 0.3312497543954308, 0.8948374411419968, 1.1234754674345253, 1.1268428589743582, 1.136963170352599, 1.13717476587126, 1.1243943965441385, 1.117913528086866, 1.1212204637642242, 1.129787059476869, 1.132199248389604, 1.0136271653182547, 1.0032529393176206, 1.1296177830619403, 1.134641665233576, 1.028450942797016, 1.0160091262997522]\n"
     ]
    }
   ],
   "source": [
    "from plotly.subplots import make_subplots\n",
    "import plotly.graph_objects as go\n",
    "from sklearn.linear_model import LinearRegression\n",
    "\n",
    "fig = make_subplots(rows=2, cols=1, subplot_titles=(\"Region 1\",\"Region 2\"))\n",
    "\n",
    "fig.add_trace(\n",
    "    go.Scatter(x=super_df['r1c1_Sales_U'], y=super_df['r1c1_Prices'],mode='markers',\n",
    "                    name='r1c1'),\n",
    "    row=1, col=1\n",
    ")\n",
    "\n",
    "model = LinearRegression()\n",
    "x = np.array(super_df['r1c1_Sales_U']).reshape((-1,1))\n",
    "y = np.array(super_df['r1c1_Prices'])\n",
    "model.fit(x,y)\n",
    "r_sq = model.score(x,y)\n",
    "y_pred = x*model.coef_ + model.intercept_\n",
    "y_pred = [float(el) for el in y_pred]\n",
    "x = [float(el) for el in x]\n",
    "fig.add_trace(\n",
    "    go.Scatter(x=x, y=y_pred ,mode='lines',\n",
    "                    name='r1c1'),\n",
    "    row=1, col=1\n",
    ")\n",
    "\n",
    "\n",
    "\n",
    "\n",
    "fig.add_trace(\n",
    "    go.Scatter(x=super_df['r2c1_Sales_U'].to_list()[17:], y=super_df['r2c1_Prices'].to_list()[17:], mode='markers',\n",
    "                    name='r2c1'),\n",
    "    row=2, col=1\n",
    ")\n",
    "\n",
    "model = LinearRegression()\n",
    "x = np.array(super_df['r2c1_Sales_U'].to_list()[17:]).reshape((-1,1))\n",
    "y = np.array(super_df['r2c1_Prices'].to_list()[17:])\n",
    "model.fit(x,y)\n",
    "r_sq = model.score(x,y)\n",
    "y_pred = x*model.coef_ + model.intercept_\n",
    "y_pred = [float(el) for el in y_pred]\n",
    "x = [float(el) for el in x]\n",
    "fig.add_trace(\n",
    "    go.Scatter(x=x, y=y_pred ,mode='lines',\n",
    "                    name='r2c1'),\n",
    "    row=2, col=1\n",
    ")\n",
    "\n",
    "fig.update_layout(height=700, width=1200, title_text=\"Sales vs. Prices for Company 1 in both regions\")\n",
    "fig.show()\n",
    "print(y_pred)"
   ]
  },
  {
   "cell_type": "code",
   "execution_count": null,
   "metadata": {},
   "outputs": [],
   "source": [
    "from plotly.subplots import make_subplots\n",
    "import plotly.graph_objects as go\n",
    "from sklearn.linear_model import LinearRegression\n",
    "\n",
    "fig = make_subplots(rows=2, cols=1, subplot_titles=(\"Region 1\",\"Region 2\"))\n",
    "\n",
    "fig.add_trace(\n",
    "    go.Scatter(x=super_df['r1c2_Sales_U'], y=super_df['r1c2_Prices'],mode='markers',\n",
    "                    name='r1c2'),\n",
    "    row=1, col=1\n",
    ")\n",
    "\n",
    "model = LinearRegression()\n",
    "x = np.array(super_df['r1c2_Sales_U']).reshape((-1,1))\n",
    "y = np.array(super_df['r1c2_Prices'])\n",
    "model.fit(x,y)\n",
    "r_sq = model.score(x,y)\n",
    "y_pred = x*model.coef_ + model.intercept_\n",
    "y_pred = [float(el) for el in y_pred]\n",
    "x = [float(el) for el in x]\n",
    "fig.add_trace(\n",
    "    go.Scatter(x=x, y=y_pred ,mode='lines',\n",
    "                    name='r1c2'),\n",
    "    row=1, col=1\n",
    ")\n",
    "\n",
    "\n",
    "\n",
    "\n",
    "fig.add_trace(\n",
    "    go.Scatter(x=super_df['r2c2_Sales_U'].to_list()[17:], y=super_df['r2c2_Prices'].to_list()[17:], mode='markers',\n",
    "                    name='r2c2'),\n",
    "    row=2, col=1\n",
    ")\n",
    "\n",
    "model = LinearRegression()\n",
    "x = np.array(super_df['r2c2_Sales_U'].to_list()[17:]).reshape((-1,1))\n",
    "y = np.array(super_df['r2c2_Prices'].to_list()[17:])\n",
    "model.fit(x,y)\n",
    "r_sq = model.score(x,y)\n",
    "y_pred = x*model.coef_ + model.intercept_\n",
    "y_pred = [float(el) for el in y_pred]\n",
    "x = [float(el) for el in x]\n",
    "fig.add_trace(\n",
    "    go.Scatter(x=x, y=y_pred ,mode='lines',\n",
    "                    name='r2c2'),\n",
    "    row=2, col=1\n",
    ")\n",
    "\n",
    "fig.update_layout(height=700, width=1200, title_text=\"Sales vs. Prices for Company 2 in both regions\")\n",
    "fig.update_xaxes(title_text=\"Sales(lbs)\", row=1, col=1)\n",
    "fig.update_xaxes(title_text=\"Sales(lbs)\", row=2, col=1)\n",
    "\n",
    "# Update yaxis properties\n",
    "fig.update_yaxes(title_text=\"Prices(USD/lb)\", row=1, col=1)\n",
    "fig.update_yaxes(title_text=\"Prices(USD/lb)\", row=2, col=1)\n",
    "fig.show()\n",
    "print(y_pred)"
   ]
  }
 ],
 "metadata": {
  "kernelspec": {
   "display_name": "Python 3.10.4 ('venv': venv)",
   "language": "python",
   "name": "python3"
  },
  "language_info": {
   "codemirror_mode": {
    "name": "ipython",
    "version": 3
   },
   "file_extension": ".py",
   "mimetype": "text/x-python",
   "name": "python",
   "nbconvert_exporter": "python",
   "pygments_lexer": "ipython3",
   "version": "3.10.4"
  },
  "orig_nbformat": 4,
  "vscode": {
   "interpreter": {
    "hash": "eeb9452b982247a769fea9695a5c1d1c60549e49e69ceb714f55d8ed4fc739a9"
   }
  }
 },
 "nbformat": 4,
 "nbformat_minor": 2
}
